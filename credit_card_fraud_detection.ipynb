{
  "nbformat": 4,
  "nbformat_minor": 5,
  "metadata": {
    "kernelspec": {
      "display_name": "Python 3",
      "language": "python",
      "name": "python3"
    },
    "language_info": {
      "codemirror_mode": {
        "name": "ipython",
        "version": 3
      },
      "file_extension": ".py",
      "mimetype": "text/x-python",
      "name": "python",
      "nbconvert_exporter": "python",
      "pygments_lexer": "ipython3",
      "version": "3.7.10"
    },
    "papermill": {
      "default_parameters": {},
      "duration": 38.808048,
      "end_time": "2021-08-15T20:04:39.947709",
      "environment_variables": {},
      "exception": null,
      "input_path": "__notebook__.ipynb",
      "output_path": "__notebook__.ipynb",
      "parameters": {},
      "start_time": "2021-08-15T20:04:01.139661",
      "version": "2.3.3"
    },
    "colab": {
      "name": "credit-card-fraud-detection.ipynb",
      "provenance": [],
      "collapsed_sections": [],
      "include_colab_link": true
    }
  },
  "cells": [
    {
      "cell_type": "markdown",
      "metadata": {
        "id": "view-in-github",
        "colab_type": "text"
      },
      "source": [
        "<a href=\"https://colab.research.google.com/github/yogeshrana7/BDDA2/blob/main/credit_card_fraud_detection.ipynb\" target=\"_parent\"><img src=\"https://colab.research.google.com/assets/colab-badge.svg\" alt=\"Open In Colab\"/></a>"
      ]
    },
    {
      "cell_type": "code",
      "metadata": {
        "execution": {
          "iopub.execute_input": "2021-08-15T20:04:09.395786Z",
          "iopub.status.busy": "2021-08-15T20:04:09.395087Z",
          "iopub.status.idle": "2021-08-15T20:04:10.708480Z",
          "shell.execute_reply": "2021-08-15T20:04:10.707464Z",
          "shell.execute_reply.started": "2021-08-15T20:03:14.271494Z"
        },
        "papermill": {
          "duration": 1.356019,
          "end_time": "2021-08-15T20:04:10.708635",
          "exception": false,
          "start_time": "2021-08-15T20:04:09.352616",
          "status": "completed"
        },
        "tags": [],
        "id": "401b6121"
      },
      "source": [
        "import numpy as np\n",
        "import pandas as pd\n",
        "import seaborn as sns\n",
        "from sklearn.metrics import accuracy_score, classification_report\n",
        "from  sklearn.model_selection import train_test_split\n",
        "from sklearn.linear_model import LogisticRegression"
      ],
      "id": "401b6121",
      "execution_count": 63,
      "outputs": []
    },
    {
      "cell_type": "code",
      "metadata": {
        "id": "0GNCGWwgE-M4",
        "colab": {
          "base_uri": "https://localhost:8080/"
        },
        "outputId": "8ee0eb40-cd74-41fc-b742-2c1c7c097285"
      },
      "source": [
        "from google.colab import drive\n",
        "drive.mount('/content/drive')"
      ],
      "id": "0GNCGWwgE-M4",
      "execution_count": 64,
      "outputs": [
        {
          "output_type": "stream",
          "text": [
            "Drive already mounted at /content/drive; to attempt to forcibly remount, call drive.mount(\"/content/drive\", force_remount=True).\n"
          ],
          "name": "stdout"
        }
      ]
    },
    {
      "cell_type": "code",
      "metadata": {
        "execution": {
          "iopub.execute_input": "2021-08-15T20:04:10.787435Z",
          "iopub.status.busy": "2021-08-15T20:04:10.786699Z",
          "iopub.status.idle": "2021-08-15T20:04:15.649480Z",
          "shell.execute_reply": "2021-08-15T20:04:15.648959Z",
          "shell.execute_reply.started": "2021-08-15T20:03:14.286192Z"
        },
        "papermill": {
          "duration": 4.904687,
          "end_time": "2021-08-15T20:04:15.649622",
          "exception": false,
          "start_time": "2021-08-15T20:04:10.744935",
          "status": "completed"
        },
        "tags": [],
        "colab": {
          "base_uri": "https://localhost:8080/",
          "height": 224
        },
        "id": "e35a4a3d",
        "outputId": "123912ab-4e1d-48ad-cdfa-86ee03c2e76b"
      },
      "source": [
        "file_transaction = pd.read_csv(\"/content/drive/MyDrive/creditcard.csv\")\n",
        "file_transaction.head(5)"
      ],
      "id": "e35a4a3d",
      "execution_count": 65,
      "outputs": [
        {
          "output_type": "execute_result",
          "data": {
            "text/html": [
              "<div>\n",
              "<style scoped>\n",
              "    .dataframe tbody tr th:only-of-type {\n",
              "        vertical-align: middle;\n",
              "    }\n",
              "\n",
              "    .dataframe tbody tr th {\n",
              "        vertical-align: top;\n",
              "    }\n",
              "\n",
              "    .dataframe thead th {\n",
              "        text-align: right;\n",
              "    }\n",
              "</style>\n",
              "<table border=\"1\" class=\"dataframe\">\n",
              "  <thead>\n",
              "    <tr style=\"text-align: right;\">\n",
              "      <th></th>\n",
              "      <th>Time</th>\n",
              "      <th>V1</th>\n",
              "      <th>V2</th>\n",
              "      <th>V3</th>\n",
              "      <th>V4</th>\n",
              "      <th>V5</th>\n",
              "      <th>V6</th>\n",
              "      <th>V7</th>\n",
              "      <th>V8</th>\n",
              "      <th>V9</th>\n",
              "      <th>V10</th>\n",
              "      <th>V11</th>\n",
              "      <th>V12</th>\n",
              "      <th>V13</th>\n",
              "      <th>V14</th>\n",
              "      <th>V15</th>\n",
              "      <th>V16</th>\n",
              "      <th>V17</th>\n",
              "      <th>V18</th>\n",
              "      <th>V19</th>\n",
              "      <th>V20</th>\n",
              "      <th>V21</th>\n",
              "      <th>V22</th>\n",
              "      <th>V23</th>\n",
              "      <th>V24</th>\n",
              "      <th>V25</th>\n",
              "      <th>V26</th>\n",
              "      <th>V27</th>\n",
              "      <th>V28</th>\n",
              "      <th>Amount</th>\n",
              "      <th>Class</th>\n",
              "    </tr>\n",
              "  </thead>\n",
              "  <tbody>\n",
              "    <tr>\n",
              "      <th>0</th>\n",
              "      <td>0.0</td>\n",
              "      <td>-1.359807</td>\n",
              "      <td>-0.072781</td>\n",
              "      <td>2.536347</td>\n",
              "      <td>1.378155</td>\n",
              "      <td>-0.338321</td>\n",
              "      <td>0.462388</td>\n",
              "      <td>0.239599</td>\n",
              "      <td>0.098698</td>\n",
              "      <td>0.363787</td>\n",
              "      <td>0.090794</td>\n",
              "      <td>-0.551600</td>\n",
              "      <td>-0.617801</td>\n",
              "      <td>-0.991390</td>\n",
              "      <td>-0.311169</td>\n",
              "      <td>1.468177</td>\n",
              "      <td>-0.470401</td>\n",
              "      <td>0.207971</td>\n",
              "      <td>0.025791</td>\n",
              "      <td>0.403993</td>\n",
              "      <td>0.251412</td>\n",
              "      <td>-0.018307</td>\n",
              "      <td>0.277838</td>\n",
              "      <td>-0.110474</td>\n",
              "      <td>0.066928</td>\n",
              "      <td>0.128539</td>\n",
              "      <td>-0.189115</td>\n",
              "      <td>0.133558</td>\n",
              "      <td>-0.021053</td>\n",
              "      <td>149.62</td>\n",
              "      <td>0</td>\n",
              "    </tr>\n",
              "    <tr>\n",
              "      <th>1</th>\n",
              "      <td>0.0</td>\n",
              "      <td>1.191857</td>\n",
              "      <td>0.266151</td>\n",
              "      <td>0.166480</td>\n",
              "      <td>0.448154</td>\n",
              "      <td>0.060018</td>\n",
              "      <td>-0.082361</td>\n",
              "      <td>-0.078803</td>\n",
              "      <td>0.085102</td>\n",
              "      <td>-0.255425</td>\n",
              "      <td>-0.166974</td>\n",
              "      <td>1.612727</td>\n",
              "      <td>1.065235</td>\n",
              "      <td>0.489095</td>\n",
              "      <td>-0.143772</td>\n",
              "      <td>0.635558</td>\n",
              "      <td>0.463917</td>\n",
              "      <td>-0.114805</td>\n",
              "      <td>-0.183361</td>\n",
              "      <td>-0.145783</td>\n",
              "      <td>-0.069083</td>\n",
              "      <td>-0.225775</td>\n",
              "      <td>-0.638672</td>\n",
              "      <td>0.101288</td>\n",
              "      <td>-0.339846</td>\n",
              "      <td>0.167170</td>\n",
              "      <td>0.125895</td>\n",
              "      <td>-0.008983</td>\n",
              "      <td>0.014724</td>\n",
              "      <td>2.69</td>\n",
              "      <td>0</td>\n",
              "    </tr>\n",
              "    <tr>\n",
              "      <th>2</th>\n",
              "      <td>1.0</td>\n",
              "      <td>-1.358354</td>\n",
              "      <td>-1.340163</td>\n",
              "      <td>1.773209</td>\n",
              "      <td>0.379780</td>\n",
              "      <td>-0.503198</td>\n",
              "      <td>1.800499</td>\n",
              "      <td>0.791461</td>\n",
              "      <td>0.247676</td>\n",
              "      <td>-1.514654</td>\n",
              "      <td>0.207643</td>\n",
              "      <td>0.624501</td>\n",
              "      <td>0.066084</td>\n",
              "      <td>0.717293</td>\n",
              "      <td>-0.165946</td>\n",
              "      <td>2.345865</td>\n",
              "      <td>-2.890083</td>\n",
              "      <td>1.109969</td>\n",
              "      <td>-0.121359</td>\n",
              "      <td>-2.261857</td>\n",
              "      <td>0.524980</td>\n",
              "      <td>0.247998</td>\n",
              "      <td>0.771679</td>\n",
              "      <td>0.909412</td>\n",
              "      <td>-0.689281</td>\n",
              "      <td>-0.327642</td>\n",
              "      <td>-0.139097</td>\n",
              "      <td>-0.055353</td>\n",
              "      <td>-0.059752</td>\n",
              "      <td>378.66</td>\n",
              "      <td>0</td>\n",
              "    </tr>\n",
              "    <tr>\n",
              "      <th>3</th>\n",
              "      <td>1.0</td>\n",
              "      <td>-0.966272</td>\n",
              "      <td>-0.185226</td>\n",
              "      <td>1.792993</td>\n",
              "      <td>-0.863291</td>\n",
              "      <td>-0.010309</td>\n",
              "      <td>1.247203</td>\n",
              "      <td>0.237609</td>\n",
              "      <td>0.377436</td>\n",
              "      <td>-1.387024</td>\n",
              "      <td>-0.054952</td>\n",
              "      <td>-0.226487</td>\n",
              "      <td>0.178228</td>\n",
              "      <td>0.507757</td>\n",
              "      <td>-0.287924</td>\n",
              "      <td>-0.631418</td>\n",
              "      <td>-1.059647</td>\n",
              "      <td>-0.684093</td>\n",
              "      <td>1.965775</td>\n",
              "      <td>-1.232622</td>\n",
              "      <td>-0.208038</td>\n",
              "      <td>-0.108300</td>\n",
              "      <td>0.005274</td>\n",
              "      <td>-0.190321</td>\n",
              "      <td>-1.175575</td>\n",
              "      <td>0.647376</td>\n",
              "      <td>-0.221929</td>\n",
              "      <td>0.062723</td>\n",
              "      <td>0.061458</td>\n",
              "      <td>123.50</td>\n",
              "      <td>0</td>\n",
              "    </tr>\n",
              "    <tr>\n",
              "      <th>4</th>\n",
              "      <td>2.0</td>\n",
              "      <td>-1.158233</td>\n",
              "      <td>0.877737</td>\n",
              "      <td>1.548718</td>\n",
              "      <td>0.403034</td>\n",
              "      <td>-0.407193</td>\n",
              "      <td>0.095921</td>\n",
              "      <td>0.592941</td>\n",
              "      <td>-0.270533</td>\n",
              "      <td>0.817739</td>\n",
              "      <td>0.753074</td>\n",
              "      <td>-0.822843</td>\n",
              "      <td>0.538196</td>\n",
              "      <td>1.345852</td>\n",
              "      <td>-1.119670</td>\n",
              "      <td>0.175121</td>\n",
              "      <td>-0.451449</td>\n",
              "      <td>-0.237033</td>\n",
              "      <td>-0.038195</td>\n",
              "      <td>0.803487</td>\n",
              "      <td>0.408542</td>\n",
              "      <td>-0.009431</td>\n",
              "      <td>0.798278</td>\n",
              "      <td>-0.137458</td>\n",
              "      <td>0.141267</td>\n",
              "      <td>-0.206010</td>\n",
              "      <td>0.502292</td>\n",
              "      <td>0.219422</td>\n",
              "      <td>0.215153</td>\n",
              "      <td>69.99</td>\n",
              "      <td>0</td>\n",
              "    </tr>\n",
              "  </tbody>\n",
              "</table>\n",
              "</div>"
            ],
            "text/plain": [
              "   Time        V1        V2        V3  ...       V27       V28  Amount  Class\n",
              "0   0.0 -1.359807 -0.072781  2.536347  ...  0.133558 -0.021053  149.62      0\n",
              "1   0.0  1.191857  0.266151  0.166480  ... -0.008983  0.014724    2.69      0\n",
              "2   1.0 -1.358354 -1.340163  1.773209  ... -0.055353 -0.059752  378.66      0\n",
              "3   1.0 -0.966272 -0.185226  1.792993  ...  0.062723  0.061458  123.50      0\n",
              "4   2.0 -1.158233  0.877737  1.548718  ...  0.219422  0.215153   69.99      0\n",
              "\n",
              "[5 rows x 31 columns]"
            ]
          },
          "metadata": {},
          "execution_count": 65
        }
      ]
    },
    {
      "cell_type": "code",
      "metadata": {
        "execution": {
          "iopub.execute_input": "2021-08-15T20:04:15.730278Z",
          "iopub.status.busy": "2021-08-15T20:04:15.729081Z",
          "iopub.status.idle": "2021-08-15T20:04:15.768135Z",
          "shell.execute_reply": "2021-08-15T20:04:15.768678Z",
          "shell.execute_reply.started": "2021-08-15T20:03:16.843248Z"
        },
        "papermill": {
          "duration": 0.082116,
          "end_time": "2021-08-15T20:04:15.768877",
          "exception": false,
          "start_time": "2021-08-15T20:04:15.686761",
          "status": "completed"
        },
        "tags": [],
        "id": "1a58ab8c",
        "colab": {
          "base_uri": "https://localhost:8080/"
        },
        "outputId": "5b28ef72-8677-4c10-f5cc-11dd083776d7"
      },
      "source": [
        "file_transaction.info()"
      ],
      "id": "1a58ab8c",
      "execution_count": 66,
      "outputs": [
        {
          "output_type": "stream",
          "text": [
            "<class 'pandas.core.frame.DataFrame'>\n",
            "RangeIndex: 284807 entries, 0 to 284806\n",
            "Data columns (total 31 columns):\n",
            " #   Column  Non-Null Count   Dtype  \n",
            "---  ------  --------------   -----  \n",
            " 0   Time    284807 non-null  float64\n",
            " 1   V1      284807 non-null  float64\n",
            " 2   V2      284807 non-null  float64\n",
            " 3   V3      284807 non-null  float64\n",
            " 4   V4      284807 non-null  float64\n",
            " 5   V5      284807 non-null  float64\n",
            " 6   V6      284807 non-null  float64\n",
            " 7   V7      284807 non-null  float64\n",
            " 8   V8      284807 non-null  float64\n",
            " 9   V9      284807 non-null  float64\n",
            " 10  V10     284807 non-null  float64\n",
            " 11  V11     284807 non-null  float64\n",
            " 12  V12     284807 non-null  float64\n",
            " 13  V13     284807 non-null  float64\n",
            " 14  V14     284807 non-null  float64\n",
            " 15  V15     284807 non-null  float64\n",
            " 16  V16     284807 non-null  float64\n",
            " 17  V17     284807 non-null  float64\n",
            " 18  V18     284807 non-null  float64\n",
            " 19  V19     284807 non-null  float64\n",
            " 20  V20     284807 non-null  float64\n",
            " 21  V21     284807 non-null  float64\n",
            " 22  V22     284807 non-null  float64\n",
            " 23  V23     284807 non-null  float64\n",
            " 24  V24     284807 non-null  float64\n",
            " 25  V25     284807 non-null  float64\n",
            " 26  V26     284807 non-null  float64\n",
            " 27  V27     284807 non-null  float64\n",
            " 28  V28     284807 non-null  float64\n",
            " 29  Amount  284807 non-null  float64\n",
            " 30  Class   284807 non-null  int64  \n",
            "dtypes: float64(30), int64(1)\n",
            "memory usage: 67.4 MB\n"
          ],
          "name": "stdout"
        }
      ]
    },
    {
      "cell_type": "code",
      "metadata": {
        "execution": {
          "iopub.execute_input": "2021-08-15T20:04:15.849516Z",
          "iopub.status.busy": "2021-08-15T20:04:15.848748Z",
          "iopub.status.idle": "2021-08-15T20:04:15.873061Z",
          "shell.execute_reply": "2021-08-15T20:04:15.872515Z",
          "shell.execute_reply.started": "2021-08-15T20:03:16.877516Z"
        },
        "papermill": {
          "duration": 0.066154,
          "end_time": "2021-08-15T20:04:15.873214",
          "exception": false,
          "start_time": "2021-08-15T20:04:15.807060",
          "status": "completed"
        },
        "tags": [],
        "id": "3ed9d06b",
        "colab": {
          "base_uri": "https://localhost:8080/"
        },
        "outputId": "cb8efc1f-6590-4165-b818-9550aba80096"
      },
      "source": [
        "file_transaction.isnull().sum()"
      ],
      "id": "3ed9d06b",
      "execution_count": 67,
      "outputs": [
        {
          "output_type": "execute_result",
          "data": {
            "text/plain": [
              "Time      0\n",
              "V1        0\n",
              "V2        0\n",
              "V3        0\n",
              "V4        0\n",
              "V5        0\n",
              "V6        0\n",
              "V7        0\n",
              "V8        0\n",
              "V9        0\n",
              "V10       0\n",
              "V11       0\n",
              "V12       0\n",
              "V13       0\n",
              "V14       0\n",
              "V15       0\n",
              "V16       0\n",
              "V17       0\n",
              "V18       0\n",
              "V19       0\n",
              "V20       0\n",
              "V21       0\n",
              "V22       0\n",
              "V23       0\n",
              "V24       0\n",
              "V25       0\n",
              "V26       0\n",
              "V27       0\n",
              "V28       0\n",
              "Amount    0\n",
              "Class     0\n",
              "dtype: int64"
            ]
          },
          "metadata": {},
          "execution_count": 67
        }
      ]
    },
    {
      "cell_type": "code",
      "metadata": {
        "execution": {
          "iopub.execute_input": "2021-08-15T20:04:15.952475Z",
          "iopub.status.busy": "2021-08-15T20:04:15.951757Z",
          "iopub.status.idle": "2021-08-15T20:04:15.961650Z",
          "shell.execute_reply": "2021-08-15T20:04:15.962229Z",
          "shell.execute_reply.started": "2021-08-15T20:03:16.902958Z"
        },
        "papermill": {
          "duration": 0.051644,
          "end_time": "2021-08-15T20:04:15.962422",
          "exception": false,
          "start_time": "2021-08-15T20:04:15.910778",
          "status": "completed"
        },
        "tags": [],
        "id": "383dd651",
        "colab": {
          "base_uri": "https://localhost:8080/"
        },
        "outputId": "d8c877d4-9db2-4461-b29c-6dc92c4c2af4"
      },
      "source": [
        "file_transaction['Class'].value_counts()"
      ],
      "id": "383dd651",
      "execution_count": 68,
      "outputs": [
        {
          "output_type": "execute_result",
          "data": {
            "text/plain": [
              "0    284315\n",
              "1       492\n",
              "Name: Class, dtype: int64"
            ]
          },
          "metadata": {},
          "execution_count": 68
        }
      ]
    },
    {
      "cell_type": "code",
      "metadata": {
        "execution": {
          "iopub.execute_input": "2021-08-15T20:04:16.118946Z",
          "iopub.status.busy": "2021-08-15T20:04:16.118316Z",
          "iopub.status.idle": "2021-08-15T20:04:16.184218Z",
          "shell.execute_reply": "2021-08-15T20:04:16.184719Z",
          "shell.execute_reply.started": "2021-08-15T20:03:16.915956Z"
        },
        "papermill": {
          "duration": 0.107665,
          "end_time": "2021-08-15T20:04:16.184893",
          "exception": false,
          "start_time": "2021-08-15T20:04:16.077228",
          "status": "completed"
        },
        "tags": [],
        "id": "3a6f63e1"
      },
      "source": [
        "file_legit_transaction = file_transaction[file_transaction.Class == 0] \n",
        "file_fraud_transaction = file_transaction[file_transaction.Class == 1]\n",
        "#print(file_fraud_transaction.to_string()) # print the new sub table"
      ],
      "id": "3a6f63e1",
      "execution_count": 69,
      "outputs": []
    },
    {
      "cell_type": "code",
      "metadata": {
        "execution": {
          "iopub.execute_input": "2021-08-15T20:04:16.264719Z",
          "iopub.status.busy": "2021-08-15T20:04:16.264091Z",
          "iopub.status.idle": "2021-08-15T20:04:16.269853Z",
          "shell.execute_reply": "2021-08-15T20:04:16.269289Z",
          "shell.execute_reply.started": "2021-08-15T20:03:16.964594Z"
        },
        "papermill": {
          "duration": 0.046695,
          "end_time": "2021-08-15T20:04:16.269991",
          "exception": false,
          "start_time": "2021-08-15T20:04:16.223296",
          "status": "completed"
        },
        "tags": [],
        "id": "5c4af788",
        "colab": {
          "base_uri": "https://localhost:8080/"
        },
        "outputId": "91a17d23-00bc-41c5-c7e4-6cb8088b1c19"
      },
      "source": [
        "print(file_legit_transaction.shape)\n",
        "print(file_fraud_transaction.shape)"
      ],
      "id": "5c4af788",
      "execution_count": 70,
      "outputs": [
        {
          "output_type": "stream",
          "text": [
            "(284315, 31)\n",
            "(492, 31)\n"
          ],
          "name": "stdout"
        }
      ]
    },
    {
      "cell_type": "code",
      "metadata": {
        "execution": {
          "iopub.execute_input": "2021-08-15T20:04:16.352187Z",
          "iopub.status.busy": "2021-08-15T20:04:16.351216Z",
          "iopub.status.idle": "2021-08-15T20:04:16.374364Z",
          "shell.execute_reply": "2021-08-15T20:04:16.374956Z",
          "shell.execute_reply.started": "2021-08-15T20:03:16.973630Z"
        },
        "papermill": {
          "duration": 0.065838,
          "end_time": "2021-08-15T20:04:16.375142",
          "exception": false,
          "start_time": "2021-08-15T20:04:16.309304",
          "status": "completed"
        },
        "tags": [],
        "id": "2983b2ea",
        "colab": {
          "base_uri": "https://localhost:8080/"
        },
        "outputId": "5fe1874d-fb7c-488c-ed06-abe37fbd8f49"
      },
      "source": [
        "file_legit_transaction.Amount.describe()"
      ],
      "id": "2983b2ea",
      "execution_count": 71,
      "outputs": [
        {
          "output_type": "execute_result",
          "data": {
            "text/plain": [
              "count    284315.000000\n",
              "mean         88.291022\n",
              "std         250.105092\n",
              "min           0.000000\n",
              "25%           5.650000\n",
              "50%          22.000000\n",
              "75%          77.050000\n",
              "max       25691.160000\n",
              "Name: Amount, dtype: float64"
            ]
          },
          "metadata": {},
          "execution_count": 71
        }
      ]
    },
    {
      "cell_type": "code",
      "metadata": {
        "execution": {
          "iopub.execute_input": "2021-08-15T20:04:16.457479Z",
          "iopub.status.busy": "2021-08-15T20:04:16.456796Z",
          "iopub.status.idle": "2021-08-15T20:04:16.465734Z",
          "shell.execute_reply": "2021-08-15T20:04:16.466284Z",
          "shell.execute_reply.started": "2021-08-15T20:03:17.006956Z"
        },
        "papermill": {
          "duration": 0.050997,
          "end_time": "2021-08-15T20:04:16.466455",
          "exception": false,
          "start_time": "2021-08-15T20:04:16.415458",
          "status": "completed"
        },
        "tags": [],
        "id": "81d1a4b8",
        "colab": {
          "base_uri": "https://localhost:8080/"
        },
        "outputId": "33fb78f8-0e34-4849-cd5f-93aece132afe"
      },
      "source": [
        "file_fraud_transaction.Amount.describe()"
      ],
      "id": "81d1a4b8",
      "execution_count": 72,
      "outputs": [
        {
          "output_type": "execute_result",
          "data": {
            "text/plain": [
              "count     492.000000\n",
              "mean      122.211321\n",
              "std       256.683288\n",
              "min         0.000000\n",
              "25%         1.000000\n",
              "50%         9.250000\n",
              "75%       105.890000\n",
              "max      2125.870000\n",
              "Name: Amount, dtype: float64"
            ]
          },
          "metadata": {},
          "execution_count": 72
        }
      ]
    },
    {
      "cell_type": "code",
      "metadata": {
        "execution": {
          "iopub.execute_input": "2021-08-15T20:04:16.547763Z",
          "iopub.status.busy": "2021-08-15T20:04:16.547155Z",
          "iopub.status.idle": "2021-08-15T20:04:16.672122Z",
          "shell.execute_reply": "2021-08-15T20:04:16.671139Z",
          "shell.execute_reply.started": "2021-08-15T20:03:17.018790Z"
        },
        "papermill": {
          "duration": 0.166764,
          "end_time": "2021-08-15T20:04:16.672274",
          "exception": false,
          "start_time": "2021-08-15T20:04:16.505510",
          "status": "completed"
        },
        "tags": [],
        "id": "79877449",
        "colab": {
          "base_uri": "https://localhost:8080/",
          "height": 162
        },
        "outputId": "2db1fc53-5bce-4bf6-fc28-fa932dc49ccb"
      },
      "source": [
        "file_transaction.groupby('Class').mean()"
      ],
      "id": "79877449",
      "execution_count": 73,
      "outputs": [
        {
          "output_type": "execute_result",
          "data": {
            "text/html": [
              "<div>\n",
              "<style scoped>\n",
              "    .dataframe tbody tr th:only-of-type {\n",
              "        vertical-align: middle;\n",
              "    }\n",
              "\n",
              "    .dataframe tbody tr th {\n",
              "        vertical-align: top;\n",
              "    }\n",
              "\n",
              "    .dataframe thead th {\n",
              "        text-align: right;\n",
              "    }\n",
              "</style>\n",
              "<table border=\"1\" class=\"dataframe\">\n",
              "  <thead>\n",
              "    <tr style=\"text-align: right;\">\n",
              "      <th></th>\n",
              "      <th>Time</th>\n",
              "      <th>V1</th>\n",
              "      <th>V2</th>\n",
              "      <th>V3</th>\n",
              "      <th>V4</th>\n",
              "      <th>V5</th>\n",
              "      <th>V6</th>\n",
              "      <th>V7</th>\n",
              "      <th>V8</th>\n",
              "      <th>V9</th>\n",
              "      <th>V10</th>\n",
              "      <th>V11</th>\n",
              "      <th>V12</th>\n",
              "      <th>V13</th>\n",
              "      <th>V14</th>\n",
              "      <th>V15</th>\n",
              "      <th>V16</th>\n",
              "      <th>V17</th>\n",
              "      <th>V18</th>\n",
              "      <th>V19</th>\n",
              "      <th>V20</th>\n",
              "      <th>V21</th>\n",
              "      <th>V22</th>\n",
              "      <th>V23</th>\n",
              "      <th>V24</th>\n",
              "      <th>V25</th>\n",
              "      <th>V26</th>\n",
              "      <th>V27</th>\n",
              "      <th>V28</th>\n",
              "      <th>Amount</th>\n",
              "    </tr>\n",
              "    <tr>\n",
              "      <th>Class</th>\n",
              "      <th></th>\n",
              "      <th></th>\n",
              "      <th></th>\n",
              "      <th></th>\n",
              "      <th></th>\n",
              "      <th></th>\n",
              "      <th></th>\n",
              "      <th></th>\n",
              "      <th></th>\n",
              "      <th></th>\n",
              "      <th></th>\n",
              "      <th></th>\n",
              "      <th></th>\n",
              "      <th></th>\n",
              "      <th></th>\n",
              "      <th></th>\n",
              "      <th></th>\n",
              "      <th></th>\n",
              "      <th></th>\n",
              "      <th></th>\n",
              "      <th></th>\n",
              "      <th></th>\n",
              "      <th></th>\n",
              "      <th></th>\n",
              "      <th></th>\n",
              "      <th></th>\n",
              "      <th></th>\n",
              "      <th></th>\n",
              "      <th></th>\n",
              "      <th></th>\n",
              "    </tr>\n",
              "  </thead>\n",
              "  <tbody>\n",
              "    <tr>\n",
              "      <th>0</th>\n",
              "      <td>94838.202258</td>\n",
              "      <td>0.008258</td>\n",
              "      <td>-0.006271</td>\n",
              "      <td>0.012171</td>\n",
              "      <td>-0.007860</td>\n",
              "      <td>0.005453</td>\n",
              "      <td>0.002419</td>\n",
              "      <td>0.009637</td>\n",
              "      <td>-0.000987</td>\n",
              "      <td>0.004467</td>\n",
              "      <td>0.009824</td>\n",
              "      <td>-0.006576</td>\n",
              "      <td>0.010832</td>\n",
              "      <td>0.000189</td>\n",
              "      <td>0.012064</td>\n",
              "      <td>0.000161</td>\n",
              "      <td>0.007164</td>\n",
              "      <td>0.011535</td>\n",
              "      <td>0.003887</td>\n",
              "      <td>-0.001178</td>\n",
              "      <td>-0.000644</td>\n",
              "      <td>-0.001235</td>\n",
              "      <td>-0.000024</td>\n",
              "      <td>0.000070</td>\n",
              "      <td>0.000182</td>\n",
              "      <td>-0.000072</td>\n",
              "      <td>-0.000089</td>\n",
              "      <td>-0.000295</td>\n",
              "      <td>-0.000131</td>\n",
              "      <td>88.291022</td>\n",
              "    </tr>\n",
              "    <tr>\n",
              "      <th>1</th>\n",
              "      <td>80746.806911</td>\n",
              "      <td>-4.771948</td>\n",
              "      <td>3.623778</td>\n",
              "      <td>-7.033281</td>\n",
              "      <td>4.542029</td>\n",
              "      <td>-3.151225</td>\n",
              "      <td>-1.397737</td>\n",
              "      <td>-5.568731</td>\n",
              "      <td>0.570636</td>\n",
              "      <td>-2.581123</td>\n",
              "      <td>-5.676883</td>\n",
              "      <td>3.800173</td>\n",
              "      <td>-6.259393</td>\n",
              "      <td>-0.109334</td>\n",
              "      <td>-6.971723</td>\n",
              "      <td>-0.092929</td>\n",
              "      <td>-4.139946</td>\n",
              "      <td>-6.665836</td>\n",
              "      <td>-2.246308</td>\n",
              "      <td>0.680659</td>\n",
              "      <td>0.372319</td>\n",
              "      <td>0.713588</td>\n",
              "      <td>0.014049</td>\n",
              "      <td>-0.040308</td>\n",
              "      <td>-0.105130</td>\n",
              "      <td>0.041449</td>\n",
              "      <td>0.051648</td>\n",
              "      <td>0.170575</td>\n",
              "      <td>0.075667</td>\n",
              "      <td>122.211321</td>\n",
              "    </tr>\n",
              "  </tbody>\n",
              "</table>\n",
              "</div>"
            ],
            "text/plain": [
              "               Time        V1        V2  ...       V27       V28      Amount\n",
              "Class                                    ...                                \n",
              "0      94838.202258  0.008258 -0.006271  ... -0.000295 -0.000131   88.291022\n",
              "1      80746.806911 -4.771948  3.623778  ...  0.170575  0.075667  122.211321\n",
              "\n",
              "[2 rows x 30 columns]"
            ]
          },
          "metadata": {},
          "execution_count": 73
        }
      ]
    },
    {
      "cell_type": "code",
      "metadata": {
        "execution": {
          "iopub.execute_input": "2021-08-15T20:04:16.757215Z",
          "iopub.status.busy": "2021-08-15T20:04:16.756479Z",
          "iopub.status.idle": "2021-08-15T20:04:16.768395Z",
          "shell.execute_reply": "2021-08-15T20:04:16.767791Z",
          "shell.execute_reply.started": "2021-08-15T20:03:17.167063Z"
        },
        "papermill": {
          "duration": 0.056258,
          "end_time": "2021-08-15T20:04:16.768540",
          "exception": false,
          "start_time": "2021-08-15T20:04:16.712282",
          "status": "completed"
        },
        "tags": [],
        "id": "80d0c7fc"
      },
      "source": [
        "file_legit_transaction_sample = file_legit_transaction.sample(n=492)"
      ],
      "id": "80d0c7fc",
      "execution_count": 74,
      "outputs": []
    },
    {
      "cell_type": "code",
      "metadata": {
        "execution": {
          "iopub.execute_input": "2021-08-15T20:04:16.854284Z",
          "iopub.status.busy": "2021-08-15T20:04:16.853590Z",
          "iopub.status.idle": "2021-08-15T20:04:16.858197Z",
          "shell.execute_reply": "2021-08-15T20:04:16.858697Z",
          "shell.execute_reply.started": "2021-08-15T20:03:17.186042Z"
        },
        "papermill": {
          "duration": 0.047731,
          "end_time": "2021-08-15T20:04:16.858875",
          "exception": false,
          "start_time": "2021-08-15T20:04:16.811144",
          "status": "completed"
        },
        "tags": [],
        "id": "f24bc81f"
      },
      "source": [
        "new_file_transaction= pd.concat([file_legit_transaction_sample, file_fraud_transaction], axis = 0)"
      ],
      "id": "f24bc81f",
      "execution_count": 75,
      "outputs": []
    },
    {
      "cell_type": "code",
      "metadata": {
        "execution": {
          "iopub.execute_input": "2021-08-15T20:04:16.943912Z",
          "iopub.status.busy": "2021-08-15T20:04:16.942820Z",
          "iopub.status.idle": "2021-08-15T20:04:16.948633Z",
          "shell.execute_reply": "2021-08-15T20:04:16.949156Z",
          "shell.execute_reply.started": "2021-08-15T20:03:17.195239Z"
        },
        "papermill": {
          "duration": 0.050198,
          "end_time": "2021-08-15T20:04:16.949346",
          "exception": false,
          "start_time": "2021-08-15T20:04:16.899148",
          "status": "completed"
        },
        "tags": [],
        "id": "d62ed18d",
        "colab": {
          "base_uri": "https://localhost:8080/"
        },
        "outputId": "f9ba3e92-f6a3-4a6c-ea0c-272dc276852f"
      },
      "source": [
        "new_file_transaction.shape"
      ],
      "id": "d62ed18d",
      "execution_count": 76,
      "outputs": [
        {
          "output_type": "execute_result",
          "data": {
            "text/plain": [
              "(984, 31)"
            ]
          },
          "metadata": {},
          "execution_count": 76
        }
      ]
    },
    {
      "cell_type": "code",
      "metadata": {
        "execution": {
          "iopub.execute_input": "2021-08-15T20:04:17.034340Z",
          "iopub.status.busy": "2021-08-15T20:04:17.033342Z",
          "iopub.status.idle": "2021-08-15T20:04:17.061641Z",
          "shell.execute_reply": "2021-08-15T20:04:17.061080Z",
          "shell.execute_reply.started": "2021-08-15T20:03:17.208638Z"
        },
        "papermill": {
          "duration": 0.071769,
          "end_time": "2021-08-15T20:04:17.061781",
          "exception": false,
          "start_time": "2021-08-15T20:04:16.990012",
          "status": "completed"
        },
        "tags": [],
        "id": "038b58c8",
        "colab": {
          "base_uri": "https://localhost:8080/",
          "height": 193
        },
        "outputId": "d9a65bf4-8cfa-4cab-bf22-32e4019e1c66"
      },
      "source": [
        "new_file_transaction.head(4)"
      ],
      "id": "038b58c8",
      "execution_count": 77,
      "outputs": [
        {
          "output_type": "execute_result",
          "data": {
            "text/html": [
              "<div>\n",
              "<style scoped>\n",
              "    .dataframe tbody tr th:only-of-type {\n",
              "        vertical-align: middle;\n",
              "    }\n",
              "\n",
              "    .dataframe tbody tr th {\n",
              "        vertical-align: top;\n",
              "    }\n",
              "\n",
              "    .dataframe thead th {\n",
              "        text-align: right;\n",
              "    }\n",
              "</style>\n",
              "<table border=\"1\" class=\"dataframe\">\n",
              "  <thead>\n",
              "    <tr style=\"text-align: right;\">\n",
              "      <th></th>\n",
              "      <th>Time</th>\n",
              "      <th>V1</th>\n",
              "      <th>V2</th>\n",
              "      <th>V3</th>\n",
              "      <th>V4</th>\n",
              "      <th>V5</th>\n",
              "      <th>V6</th>\n",
              "      <th>V7</th>\n",
              "      <th>V8</th>\n",
              "      <th>V9</th>\n",
              "      <th>V10</th>\n",
              "      <th>V11</th>\n",
              "      <th>V12</th>\n",
              "      <th>V13</th>\n",
              "      <th>V14</th>\n",
              "      <th>V15</th>\n",
              "      <th>V16</th>\n",
              "      <th>V17</th>\n",
              "      <th>V18</th>\n",
              "      <th>V19</th>\n",
              "      <th>V20</th>\n",
              "      <th>V21</th>\n",
              "      <th>V22</th>\n",
              "      <th>V23</th>\n",
              "      <th>V24</th>\n",
              "      <th>V25</th>\n",
              "      <th>V26</th>\n",
              "      <th>V27</th>\n",
              "      <th>V28</th>\n",
              "      <th>Amount</th>\n",
              "      <th>Class</th>\n",
              "    </tr>\n",
              "  </thead>\n",
              "  <tbody>\n",
              "    <tr>\n",
              "      <th>271776</th>\n",
              "      <td>164741.0</td>\n",
              "      <td>-0.923377</td>\n",
              "      <td>1.752366</td>\n",
              "      <td>-0.494198</td>\n",
              "      <td>-0.481745</td>\n",
              "      <td>0.685165</td>\n",
              "      <td>-0.611919</td>\n",
              "      <td>0.698739</td>\n",
              "      <td>0.312480</td>\n",
              "      <td>-0.257231</td>\n",
              "      <td>-0.668628</td>\n",
              "      <td>-0.986686</td>\n",
              "      <td>-0.163908</td>\n",
              "      <td>0.069363</td>\n",
              "      <td>-0.729039</td>\n",
              "      <td>0.075846</td>\n",
              "      <td>0.210828</td>\n",
              "      <td>0.678691</td>\n",
              "      <td>-0.024472</td>\n",
              "      <td>0.458715</td>\n",
              "      <td>0.143570</td>\n",
              "      <td>-0.305827</td>\n",
              "      <td>-0.837680</td>\n",
              "      <td>0.002063</td>\n",
              "      <td>0.378431</td>\n",
              "      <td>-0.289676</td>\n",
              "      <td>0.234282</td>\n",
              "      <td>0.184999</td>\n",
              "      <td>0.235718</td>\n",
              "      <td>1.79</td>\n",
              "      <td>0</td>\n",
              "    </tr>\n",
              "    <tr>\n",
              "      <th>171064</th>\n",
              "      <td>120483.0</td>\n",
              "      <td>-0.632781</td>\n",
              "      <td>-1.511681</td>\n",
              "      <td>2.758904</td>\n",
              "      <td>-2.504170</td>\n",
              "      <td>-1.221752</td>\n",
              "      <td>0.768253</td>\n",
              "      <td>-1.731258</td>\n",
              "      <td>0.521174</td>\n",
              "      <td>-0.688508</td>\n",
              "      <td>0.327463</td>\n",
              "      <td>-0.588297</td>\n",
              "      <td>0.585330</td>\n",
              "      <td>1.389595</td>\n",
              "      <td>-2.057836</td>\n",
              "      <td>-3.478976</td>\n",
              "      <td>-0.416665</td>\n",
              "      <td>0.281036</td>\n",
              "      <td>0.783544</td>\n",
              "      <td>-0.096999</td>\n",
              "      <td>-0.228192</td>\n",
              "      <td>0.074048</td>\n",
              "      <td>0.954574</td>\n",
              "      <td>-0.214308</td>\n",
              "      <td>-0.273706</td>\n",
              "      <td>-0.168501</td>\n",
              "      <td>-0.078714</td>\n",
              "      <td>0.218293</td>\n",
              "      <td>0.152654</td>\n",
              "      <td>10.30</td>\n",
              "      <td>0</td>\n",
              "    </tr>\n",
              "    <tr>\n",
              "      <th>283728</th>\n",
              "      <td>171829.0</td>\n",
              "      <td>2.070626</td>\n",
              "      <td>0.176873</td>\n",
              "      <td>-1.763674</td>\n",
              "      <td>0.381060</td>\n",
              "      <td>0.543542</td>\n",
              "      <td>-0.772793</td>\n",
              "      <td>0.238878</td>\n",
              "      <td>-0.266992</td>\n",
              "      <td>0.401706</td>\n",
              "      <td>-0.401566</td>\n",
              "      <td>-0.592575</td>\n",
              "      <td>0.453771</td>\n",
              "      <td>0.767034</td>\n",
              "      <td>-0.986030</td>\n",
              "      <td>0.143743</td>\n",
              "      <td>0.331473</td>\n",
              "      <td>0.378399</td>\n",
              "      <td>-0.337689</td>\n",
              "      <td>0.104613</td>\n",
              "      <td>-0.090962</td>\n",
              "      <td>-0.362166</td>\n",
              "      <td>-0.922595</td>\n",
              "      <td>0.305145</td>\n",
              "      <td>0.397790</td>\n",
              "      <td>-0.217469</td>\n",
              "      <td>0.178212</td>\n",
              "      <td>-0.060051</td>\n",
              "      <td>-0.029157</td>\n",
              "      <td>9.99</td>\n",
              "      <td>0</td>\n",
              "    </tr>\n",
              "    <tr>\n",
              "      <th>224172</th>\n",
              "      <td>143681.0</td>\n",
              "      <td>2.228097</td>\n",
              "      <td>-0.609542</td>\n",
              "      <td>-2.733459</td>\n",
              "      <td>-1.133327</td>\n",
              "      <td>0.587938</td>\n",
              "      <td>-0.904955</td>\n",
              "      <td>0.334597</td>\n",
              "      <td>-0.415603</td>\n",
              "      <td>-1.244840</td>\n",
              "      <td>1.095342</td>\n",
              "      <td>0.603852</td>\n",
              "      <td>-0.348856</td>\n",
              "      <td>-0.510095</td>\n",
              "      <td>0.691161</td>\n",
              "      <td>-1.075710</td>\n",
              "      <td>0.355323</td>\n",
              "      <td>0.220389</td>\n",
              "      <td>-1.143698</td>\n",
              "      <td>1.117963</td>\n",
              "      <td>0.003349</td>\n",
              "      <td>0.516540</td>\n",
              "      <td>1.434135</td>\n",
              "      <td>-0.266728</td>\n",
              "      <td>0.384155</td>\n",
              "      <td>0.766139</td>\n",
              "      <td>0.273868</td>\n",
              "      <td>-0.109445</td>\n",
              "      <td>-0.096551</td>\n",
              "      <td>40.00</td>\n",
              "      <td>0</td>\n",
              "    </tr>\n",
              "  </tbody>\n",
              "</table>\n",
              "</div>"
            ],
            "text/plain": [
              "            Time        V1        V2  ...       V28  Amount  Class\n",
              "271776  164741.0 -0.923377  1.752366  ...  0.235718    1.79      0\n",
              "171064  120483.0 -0.632781 -1.511681  ...  0.152654   10.30      0\n",
              "283728  171829.0  2.070626  0.176873  ... -0.029157    9.99      0\n",
              "224172  143681.0  2.228097 -0.609542  ... -0.096551   40.00      0\n",
              "\n",
              "[4 rows x 31 columns]"
            ]
          },
          "metadata": {},
          "execution_count": 77
        }
      ]
    },
    {
      "cell_type": "code",
      "metadata": {
        "execution": {
          "iopub.execute_input": "2021-08-15T20:04:17.149883Z",
          "iopub.status.busy": "2021-08-15T20:04:17.149199Z",
          "iopub.status.idle": "2021-08-15T20:04:17.152712Z",
          "shell.execute_reply": "2021-08-15T20:04:17.153205Z",
          "shell.execute_reply.started": "2021-08-15T20:03:17.248603Z"
        },
        "papermill": {
          "duration": 0.050948,
          "end_time": "2021-08-15T20:04:17.153386",
          "exception": false,
          "start_time": "2021-08-15T20:04:17.102438",
          "status": "completed"
        },
        "tags": [],
        "id": "acc6eb97",
        "colab": {
          "base_uri": "https://localhost:8080/"
        },
        "outputId": "ec03861e-20b0-4eea-f88c-0a5f87c3a7f1"
      },
      "source": [
        "new_file_transaction['Class'].value_counts()"
      ],
      "id": "acc6eb97",
      "execution_count": 78,
      "outputs": [
        {
          "output_type": "execute_result",
          "data": {
            "text/plain": [
              "1    492\n",
              "0    492\n",
              "Name: Class, dtype: int64"
            ]
          },
          "metadata": {},
          "execution_count": 78
        }
      ]
    },
    {
      "cell_type": "code",
      "metadata": {
        "execution": {
          "iopub.execute_input": "2021-08-15T20:04:17.245052Z",
          "iopub.status.busy": "2021-08-15T20:04:17.244375Z",
          "iopub.status.idle": "2021-08-15T20:04:17.268591Z",
          "shell.execute_reply": "2021-08-15T20:04:17.267971Z",
          "shell.execute_reply.started": "2021-08-15T20:03:17.258389Z"
        },
        "papermill": {
          "duration": 0.073136,
          "end_time": "2021-08-15T20:04:17.268736",
          "exception": false,
          "start_time": "2021-08-15T20:04:17.195600",
          "status": "completed"
        },
        "tags": [],
        "id": "24c51caf",
        "colab": {
          "base_uri": "https://localhost:8080/",
          "height": 162
        },
        "outputId": "1b084dcc-bd16-4179-addc-427744015ec2"
      },
      "source": [
        "new_file_transaction.groupby('Class').mean()"
      ],
      "id": "24c51caf",
      "execution_count": 79,
      "outputs": [
        {
          "output_type": "execute_result",
          "data": {
            "text/html": [
              "<div>\n",
              "<style scoped>\n",
              "    .dataframe tbody tr th:only-of-type {\n",
              "        vertical-align: middle;\n",
              "    }\n",
              "\n",
              "    .dataframe tbody tr th {\n",
              "        vertical-align: top;\n",
              "    }\n",
              "\n",
              "    .dataframe thead th {\n",
              "        text-align: right;\n",
              "    }\n",
              "</style>\n",
              "<table border=\"1\" class=\"dataframe\">\n",
              "  <thead>\n",
              "    <tr style=\"text-align: right;\">\n",
              "      <th></th>\n",
              "      <th>Time</th>\n",
              "      <th>V1</th>\n",
              "      <th>V2</th>\n",
              "      <th>V3</th>\n",
              "      <th>V4</th>\n",
              "      <th>V5</th>\n",
              "      <th>V6</th>\n",
              "      <th>V7</th>\n",
              "      <th>V8</th>\n",
              "      <th>V9</th>\n",
              "      <th>V10</th>\n",
              "      <th>V11</th>\n",
              "      <th>V12</th>\n",
              "      <th>V13</th>\n",
              "      <th>V14</th>\n",
              "      <th>V15</th>\n",
              "      <th>V16</th>\n",
              "      <th>V17</th>\n",
              "      <th>V18</th>\n",
              "      <th>V19</th>\n",
              "      <th>V20</th>\n",
              "      <th>V21</th>\n",
              "      <th>V22</th>\n",
              "      <th>V23</th>\n",
              "      <th>V24</th>\n",
              "      <th>V25</th>\n",
              "      <th>V26</th>\n",
              "      <th>V27</th>\n",
              "      <th>V28</th>\n",
              "      <th>Amount</th>\n",
              "    </tr>\n",
              "    <tr>\n",
              "      <th>Class</th>\n",
              "      <th></th>\n",
              "      <th></th>\n",
              "      <th></th>\n",
              "      <th></th>\n",
              "      <th></th>\n",
              "      <th></th>\n",
              "      <th></th>\n",
              "      <th></th>\n",
              "      <th></th>\n",
              "      <th></th>\n",
              "      <th></th>\n",
              "      <th></th>\n",
              "      <th></th>\n",
              "      <th></th>\n",
              "      <th></th>\n",
              "      <th></th>\n",
              "      <th></th>\n",
              "      <th></th>\n",
              "      <th></th>\n",
              "      <th></th>\n",
              "      <th></th>\n",
              "      <th></th>\n",
              "      <th></th>\n",
              "      <th></th>\n",
              "      <th></th>\n",
              "      <th></th>\n",
              "      <th></th>\n",
              "      <th></th>\n",
              "      <th></th>\n",
              "      <th></th>\n",
              "    </tr>\n",
              "  </thead>\n",
              "  <tbody>\n",
              "    <tr>\n",
              "      <th>0</th>\n",
              "      <td>91719.136179</td>\n",
              "      <td>-0.035207</td>\n",
              "      <td>-0.103643</td>\n",
              "      <td>0.011012</td>\n",
              "      <td>-0.055423</td>\n",
              "      <td>-0.003151</td>\n",
              "      <td>0.037009</td>\n",
              "      <td>-0.028866</td>\n",
              "      <td>0.038628</td>\n",
              "      <td>0.032827</td>\n",
              "      <td>0.040505</td>\n",
              "      <td>-0.036936</td>\n",
              "      <td>0.070688</td>\n",
              "      <td>-0.056821</td>\n",
              "      <td>-0.047686</td>\n",
              "      <td>0.048625</td>\n",
              "      <td>-0.010911</td>\n",
              "      <td>-0.003476</td>\n",
              "      <td>0.036493</td>\n",
              "      <td>0.028934</td>\n",
              "      <td>-0.008335</td>\n",
              "      <td>-0.005245</td>\n",
              "      <td>0.003103</td>\n",
              "      <td>-0.014094</td>\n",
              "      <td>0.013263</td>\n",
              "      <td>0.043323</td>\n",
              "      <td>0.003560</td>\n",
              "      <td>0.014390</td>\n",
              "      <td>-0.021507</td>\n",
              "      <td>92.710346</td>\n",
              "    </tr>\n",
              "    <tr>\n",
              "      <th>1</th>\n",
              "      <td>80746.806911</td>\n",
              "      <td>-4.771948</td>\n",
              "      <td>3.623778</td>\n",
              "      <td>-7.033281</td>\n",
              "      <td>4.542029</td>\n",
              "      <td>-3.151225</td>\n",
              "      <td>-1.397737</td>\n",
              "      <td>-5.568731</td>\n",
              "      <td>0.570636</td>\n",
              "      <td>-2.581123</td>\n",
              "      <td>-5.676883</td>\n",
              "      <td>3.800173</td>\n",
              "      <td>-6.259393</td>\n",
              "      <td>-0.109334</td>\n",
              "      <td>-6.971723</td>\n",
              "      <td>-0.092929</td>\n",
              "      <td>-4.139946</td>\n",
              "      <td>-6.665836</td>\n",
              "      <td>-2.246308</td>\n",
              "      <td>0.680659</td>\n",
              "      <td>0.372319</td>\n",
              "      <td>0.713588</td>\n",
              "      <td>0.014049</td>\n",
              "      <td>-0.040308</td>\n",
              "      <td>-0.105130</td>\n",
              "      <td>0.041449</td>\n",
              "      <td>0.051648</td>\n",
              "      <td>0.170575</td>\n",
              "      <td>0.075667</td>\n",
              "      <td>122.211321</td>\n",
              "    </tr>\n",
              "  </tbody>\n",
              "</table>\n",
              "</div>"
            ],
            "text/plain": [
              "               Time        V1        V2  ...       V27       V28      Amount\n",
              "Class                                    ...                                \n",
              "0      91719.136179 -0.035207 -0.103643  ...  0.014390 -0.021507   92.710346\n",
              "1      80746.806911 -4.771948  3.623778  ...  0.170575  0.075667  122.211321\n",
              "\n",
              "[2 rows x 30 columns]"
            ]
          },
          "metadata": {},
          "execution_count": 79
        }
      ]
    },
    {
      "cell_type": "code",
      "metadata": {
        "execution": {
          "iopub.execute_input": "2021-08-15T20:04:17.356125Z",
          "iopub.status.busy": "2021-08-15T20:04:17.355498Z",
          "iopub.status.idle": "2021-08-15T20:04:17.360684Z",
          "shell.execute_reply": "2021-08-15T20:04:17.361220Z",
          "shell.execute_reply.started": "2021-08-15T20:03:17.293705Z"
        },
        "papermill": {
          "duration": 0.050124,
          "end_time": "2021-08-15T20:04:17.361399",
          "exception": false,
          "start_time": "2021-08-15T20:04:17.311275",
          "status": "completed"
        },
        "tags": [],
        "id": "91ee58d7"
      },
      "source": [
        "X = new_file_transaction.drop(columns = 'Class', axis=1)\n",
        "Y = new_file_transaction['Class']"
      ],
      "id": "91ee58d7",
      "execution_count": 80,
      "outputs": []
    },
    {
      "cell_type": "code",
      "metadata": {
        "execution": {
          "iopub.execute_input": "2021-08-15T20:04:17.447856Z",
          "iopub.status.busy": "2021-08-15T20:04:17.447235Z",
          "iopub.status.idle": "2021-08-15T20:04:17.452010Z",
          "shell.execute_reply": "2021-08-15T20:04:17.452537Z",
          "shell.execute_reply.started": "2021-08-15T20:03:17.302786Z"
        },
        "papermill": {
          "duration": 0.049534,
          "end_time": "2021-08-15T20:04:17.452705",
          "exception": false,
          "start_time": "2021-08-15T20:04:17.403171",
          "status": "completed"
        },
        "tags": [],
        "id": "5f731932",
        "colab": {
          "base_uri": "https://localhost:8080/"
        },
        "outputId": "41b356c1-636f-45fd-c817-d59b78e632e4"
      },
      "source": [
        "X.shape"
      ],
      "id": "5f731932",
      "execution_count": 81,
      "outputs": [
        {
          "output_type": "execute_result",
          "data": {
            "text/plain": [
              "(984, 30)"
            ]
          },
          "metadata": {},
          "execution_count": 81
        }
      ]
    },
    {
      "cell_type": "code",
      "metadata": {
        "execution": {
          "iopub.execute_input": "2021-08-15T20:04:17.539983Z",
          "iopub.status.busy": "2021-08-15T20:04:17.539012Z",
          "iopub.status.idle": "2021-08-15T20:04:17.544286Z",
          "shell.execute_reply": "2021-08-15T20:04:17.544733Z",
          "shell.execute_reply.started": "2021-08-15T20:03:17.316395Z"
        },
        "papermill": {
          "duration": 0.050119,
          "end_time": "2021-08-15T20:04:17.544904",
          "exception": false,
          "start_time": "2021-08-15T20:04:17.494785",
          "status": "completed"
        },
        "tags": [],
        "id": "1c54b24c",
        "colab": {
          "base_uri": "https://localhost:8080/"
        },
        "outputId": "638ec1d6-1ee4-4948-ad5f-6011e5b4420f"
      },
      "source": [
        "Y.shape"
      ],
      "id": "1c54b24c",
      "execution_count": 82,
      "outputs": [
        {
          "output_type": "execute_result",
          "data": {
            "text/plain": [
              "(984,)"
            ]
          },
          "metadata": {},
          "execution_count": 82
        }
      ]
    },
    {
      "cell_type": "code",
      "metadata": {
        "execution": {
          "iopub.execute_input": "2021-08-15T20:04:17.632472Z",
          "iopub.status.busy": "2021-08-15T20:04:17.631538Z",
          "iopub.status.idle": "2021-08-15T20:04:17.637596Z",
          "shell.execute_reply": "2021-08-15T20:04:17.638057Z",
          "shell.execute_reply.started": "2021-08-15T20:03:17.331476Z"
        },
        "papermill": {
          "duration": 0.051291,
          "end_time": "2021-08-15T20:04:17.638229",
          "exception": false,
          "start_time": "2021-08-15T20:04:17.586938",
          "status": "completed"
        },
        "tags": [],
        "id": "bec87d43"
      },
      "source": [
        "X_train, X_test, y_train, y_test = train_test_split(X, Y, test_size=0.2)\n"
      ],
      "id": "bec87d43",
      "execution_count": 89,
      "outputs": []
    },
    {
      "cell_type": "code",
      "metadata": {
        "id": "ifPA-AZ6sF0P"
      },
      "source": [
        "model = LogisticRegression()"
      ],
      "id": "ifPA-AZ6sF0P",
      "execution_count": 90,
      "outputs": []
    },
    {
      "cell_type": "code",
      "metadata": {
        "execution": {
          "iopub.execute_input": "2021-08-15T20:04:17.818496Z",
          "iopub.status.busy": "2021-08-15T20:04:17.817451Z",
          "iopub.status.idle": "2021-08-15T20:04:17.964361Z",
          "shell.execute_reply": "2021-08-15T20:04:17.964845Z",
          "shell.execute_reply.started": "2021-08-15T20:03:17.356291Z"
        },
        "papermill": {
          "duration": 0.19269,
          "end_time": "2021-08-15T20:04:17.965045",
          "exception": false,
          "start_time": "2021-08-15T20:04:17.772355",
          "status": "completed"
        },
        "tags": [],
        "id": "4c608648",
        "colab": {
          "base_uri": "https://localhost:8080/"
        },
        "outputId": "265602e7-ad47-4ae5-b08a-25def6b36a0c"
      },
      "source": [
        "model.fit(X_train, y_train)"
      ],
      "id": "4c608648",
      "execution_count": 91,
      "outputs": [
        {
          "output_type": "execute_result",
          "data": {
            "text/plain": [
              "LogisticRegression(C=1.0, class_weight=None, dual=False, fit_intercept=True,\n",
              "                   intercept_scaling=1, l1_ratio=None, max_iter=100,\n",
              "                   multi_class='auto', n_jobs=None, penalty='l2',\n",
              "                   random_state=None, solver='lbfgs', tol=0.0001, verbose=0,\n",
              "                   warm_start=False)"
            ]
          },
          "metadata": {},
          "execution_count": 91
        }
      ]
    },
    {
      "cell_type": "code",
      "metadata": {
        "execution": {
          "iopub.execute_input": "2021-08-15T20:04:18.059418Z",
          "iopub.status.busy": "2021-08-15T20:04:18.058282Z",
          "iopub.status.idle": "2021-08-15T20:04:18.071062Z",
          "shell.execute_reply": "2021-08-15T20:04:18.072688Z",
          "shell.execute_reply.started": "2021-08-15T20:03:17.387463Z"
        },
        "papermill": {
          "duration": 0.065146,
          "end_time": "2021-08-15T20:04:18.073216",
          "exception": false,
          "start_time": "2021-08-15T20:04:18.008070",
          "status": "completed"
        },
        "tags": [],
        "id": "d44f0d74",
        "colab": {
          "base_uri": "https://localhost:8080/"
        },
        "outputId": "d522d35a-608a-4397-ba62-fcc3da2282c2"
      },
      "source": [
        "train_predictions = model.predict(X_train)\n",
        "train_accuracy = accuracy_score(train_predictions, y_train)\n",
        "print(train_accuracy)"
      ],
      "id": "d44f0d74",
      "execution_count": 92,
      "outputs": [
        {
          "output_type": "stream",
          "text": [
            "0.9529860228716646\n"
          ],
          "name": "stdout"
        }
      ]
    },
    {
      "cell_type": "code",
      "metadata": {
        "execution": {
          "iopub.execute_input": "2021-08-15T20:04:18.219317Z",
          "iopub.status.busy": "2021-08-15T20:04:18.218234Z",
          "iopub.status.idle": "2021-08-15T20:04:18.224277Z",
          "shell.execute_reply": "2021-08-15T20:04:18.225814Z",
          "shell.execute_reply.started": "2021-08-15T20:03:17.404121Z"
        },
        "papermill": {
          "duration": 0.069063,
          "end_time": "2021-08-15T20:04:18.226174",
          "exception": false,
          "start_time": "2021-08-15T20:04:18.157111",
          "status": "completed"
        },
        "tags": [],
        "id": "dbcf93fd",
        "colab": {
          "base_uri": "https://localhost:8080/"
        },
        "outputId": "920f6361-c1ec-4302-dd8e-824a351d998e"
      },
      "source": [
        "test_predictions = model.predict(X_test)\n",
        "test_accuracy = accuracy_score(test_predictions, y_test)\n",
        "print(test_accuracy)"
      ],
      "id": "dbcf93fd",
      "execution_count": 93,
      "outputs": [
        {
          "output_type": "stream",
          "text": [
            "0.9086294416243654\n"
          ],
          "name": "stdout"
        }
      ]
    },
    {
      "cell_type": "code",
      "metadata": {
        "execution": {
          "iopub.execute_input": "2021-08-15T20:04:19.153091Z",
          "iopub.status.busy": "2021-08-15T20:04:19.152369Z",
          "iopub.status.idle": "2021-08-15T20:04:19.161117Z",
          "shell.execute_reply": "2021-08-15T20:04:19.160546Z",
          "shell.execute_reply.started": "2021-08-15T20:03:17.946950Z"
        },
        "papermill": {
          "duration": 0.061047,
          "end_time": "2021-08-15T20:04:19.161268",
          "exception": false,
          "start_time": "2021-08-15T20:04:19.100221",
          "status": "completed"
        },
        "tags": [],
        "id": "542aecc6",
        "colab": {
          "base_uri": "https://localhost:8080/"
        },
        "outputId": "e62e987c-bc16-42d1-d4ff-7d53592a519f"
      },
      "source": [
        "print(classification_report(y_test,test_predictions))"
      ],
      "id": "542aecc6",
      "execution_count": 94,
      "outputs": [
        {
          "output_type": "stream",
          "text": [
            "              precision    recall  f1-score   support\n",
            "\n",
            "           0       0.88      0.95      0.91        99\n",
            "           1       0.94      0.87      0.90        98\n",
            "\n",
            "    accuracy                           0.91       197\n",
            "   macro avg       0.91      0.91      0.91       197\n",
            "weighted avg       0.91      0.91      0.91       197\n",
            "\n"
          ],
          "name": "stdout"
        }
      ]
    },
    {
      "cell_type": "markdown",
      "metadata": {
        "papermill": {
          "duration": 0.051177,
          "end_time": "2021-08-15T20:04:38.636701",
          "exception": false,
          "start_time": "2021-08-15T20:04:38.585524",
          "status": "completed"
        },
        "tags": [],
        "id": "1f80ac2e"
      },
      "source": [
        "#####  Conclusion : Model have achieved an accuracy of approx 91% ."
      ],
      "id": "1f80ac2e"
    }
  ]
}