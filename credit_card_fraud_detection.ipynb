{
  "nbformat": 4,
  "nbformat_minor": 5,
  "metadata": {
    "kernelspec": {
      "display_name": "Python 3",
      "language": "python",
      "name": "python3"
    },
    "language_info": {
      "codemirror_mode": {
        "name": "ipython",
        "version": 3
      },
      "file_extension": ".py",
      "mimetype": "text/x-python",
      "name": "python",
      "nbconvert_exporter": "python",
      "pygments_lexer": "ipython3",
      "version": "3.7.10"
    },
    "papermill": {
      "default_parameters": {},
      "duration": 38.808048,
      "end_time": "2021-08-15T20:04:39.947709",
      "environment_variables": {},
      "exception": null,
      "input_path": "__notebook__.ipynb",
      "output_path": "__notebook__.ipynb",
      "parameters": {},
      "start_time": "2021-08-15T20:04:01.139661",
      "version": "2.3.3"
    },
    "colab": {
      "name": "credit-card-fraud-detection.ipynb",
      "provenance": [],
      "include_colab_link": true
    }
  },
  "cells": [
    {
      "cell_type": "markdown",
      "metadata": {
        "id": "view-in-github",
        "colab_type": "text"
      },
      "source": [
        "<a href=\"https://colab.research.google.com/github/yogeshrana7/BDDA2/blob/main/credit_card_fraud_detection.ipynb\" target=\"_parent\"><img src=\"https://colab.research.google.com/assets/colab-badge.svg\" alt=\"Open In Colab\"/></a>"
      ]
    },
    {
      "cell_type": "code",
      "metadata": {
        "execution": {
          "iopub.execute_input": "2021-08-15T20:04:09.395786Z",
          "iopub.status.busy": "2021-08-15T20:04:09.395087Z",
          "iopub.status.idle": "2021-08-15T20:04:10.708480Z",
          "shell.execute_reply": "2021-08-15T20:04:10.707464Z",
          "shell.execute_reply.started": "2021-08-15T20:03:14.271494Z"
        },
        "papermill": {
          "duration": 1.356019,
          "end_time": "2021-08-15T20:04:10.708635",
          "exception": false,
          "start_time": "2021-08-15T20:04:09.352616",
          "status": "completed"
        },
        "tags": [],
        "id": "401b6121"
      },
      "source": [
        "import numpy as np\n",
        "import pandas as pd\n",
        "import seaborn as sns\n",
        "from sklearn.metrics import confusion_matrix, accuracy_score, roc_auc_score, plot_roc_curve, classification_report\n",
        "from  sklearn.model_selection import train_test_split\n",
        "from sklearn.linear_model import LogisticRegression\n",
        "import matplotlib.pyplot as plt"
      ],
      "id": "401b6121",
      "execution_count": null,
      "outputs": []
    },
    {
      "cell_type": "code",
      "metadata": {
        "id": "0GNCGWwgE-M4",
        "colab": {
          "base_uri": "https://localhost:8080/"
        },
        "outputId": "c7242356-5a16-47d4-d5c7-5c03e9a06e4e"
      },
      "source": [
        "from google.colab import drive\n",
        "drive.mount('/content/drive')"
      ],
      "id": "0GNCGWwgE-M4",
      "execution_count": null,
      "outputs": [
        {
          "output_type": "stream",
          "text": [
            "Mounted at /content/drive\n"
          ],
          "name": "stdout"
        }
      ]
    },
    {
      "cell_type": "code",
      "metadata": {
        "execution": {
          "iopub.execute_input": "2021-08-15T20:04:10.787435Z",
          "iopub.status.busy": "2021-08-15T20:04:10.786699Z",
          "iopub.status.idle": "2021-08-15T20:04:15.649480Z",
          "shell.execute_reply": "2021-08-15T20:04:15.648959Z",
          "shell.execute_reply.started": "2021-08-15T20:03:14.286192Z"
        },
        "papermill": {
          "duration": 4.904687,
          "end_time": "2021-08-15T20:04:15.649622",
          "exception": false,
          "start_time": "2021-08-15T20:04:10.744935",
          "status": "completed"
        },
        "tags": [],
        "colab": {
          "base_uri": "https://localhost:8080/",
          "height": 224
        },
        "id": "e35a4a3d",
        "outputId": "75e58728-0ccb-41a1-b44e-fc8826578edd"
      },
      "source": [
        "file_transaction = pd.read_csv(\"/content/drive/MyDrive/creditcard.csv\")\n",
        "file_transaction.head(5)"
      ],
      "id": "e35a4a3d",
      "execution_count": null,
      "outputs": [
        {
          "output_type": "execute_result",
          "data": {
            "text/html": [
              "<div>\n",
              "<style scoped>\n",
              "    .dataframe tbody tr th:only-of-type {\n",
              "        vertical-align: middle;\n",
              "    }\n",
              "\n",
              "    .dataframe tbody tr th {\n",
              "        vertical-align: top;\n",
              "    }\n",
              "\n",
              "    .dataframe thead th {\n",
              "        text-align: right;\n",
              "    }\n",
              "</style>\n",
              "<table border=\"1\" class=\"dataframe\">\n",
              "  <thead>\n",
              "    <tr style=\"text-align: right;\">\n",
              "      <th></th>\n",
              "      <th>Time</th>\n",
              "      <th>V1</th>\n",
              "      <th>V2</th>\n",
              "      <th>V3</th>\n",
              "      <th>V4</th>\n",
              "      <th>V5</th>\n",
              "      <th>V6</th>\n",
              "      <th>V7</th>\n",
              "      <th>V8</th>\n",
              "      <th>V9</th>\n",
              "      <th>V10</th>\n",
              "      <th>V11</th>\n",
              "      <th>V12</th>\n",
              "      <th>V13</th>\n",
              "      <th>V14</th>\n",
              "      <th>V15</th>\n",
              "      <th>V16</th>\n",
              "      <th>V17</th>\n",
              "      <th>V18</th>\n",
              "      <th>V19</th>\n",
              "      <th>V20</th>\n",
              "      <th>V21</th>\n",
              "      <th>V22</th>\n",
              "      <th>V23</th>\n",
              "      <th>V24</th>\n",
              "      <th>V25</th>\n",
              "      <th>V26</th>\n",
              "      <th>V27</th>\n",
              "      <th>V28</th>\n",
              "      <th>Amount</th>\n",
              "      <th>Class</th>\n",
              "    </tr>\n",
              "  </thead>\n",
              "  <tbody>\n",
              "    <tr>\n",
              "      <th>0</th>\n",
              "      <td>0.0</td>\n",
              "      <td>-1.359807</td>\n",
              "      <td>-0.072781</td>\n",
              "      <td>2.536347</td>\n",
              "      <td>1.378155</td>\n",
              "      <td>-0.338321</td>\n",
              "      <td>0.462388</td>\n",
              "      <td>0.239599</td>\n",
              "      <td>0.098698</td>\n",
              "      <td>0.363787</td>\n",
              "      <td>0.090794</td>\n",
              "      <td>-0.551600</td>\n",
              "      <td>-0.617801</td>\n",
              "      <td>-0.991390</td>\n",
              "      <td>-0.311169</td>\n",
              "      <td>1.468177</td>\n",
              "      <td>-0.470401</td>\n",
              "      <td>0.207971</td>\n",
              "      <td>0.025791</td>\n",
              "      <td>0.403993</td>\n",
              "      <td>0.251412</td>\n",
              "      <td>-0.018307</td>\n",
              "      <td>0.277838</td>\n",
              "      <td>-0.110474</td>\n",
              "      <td>0.066928</td>\n",
              "      <td>0.128539</td>\n",
              "      <td>-0.189115</td>\n",
              "      <td>0.133558</td>\n",
              "      <td>-0.021053</td>\n",
              "      <td>149.62</td>\n",
              "      <td>0</td>\n",
              "    </tr>\n",
              "    <tr>\n",
              "      <th>1</th>\n",
              "      <td>0.0</td>\n",
              "      <td>1.191857</td>\n",
              "      <td>0.266151</td>\n",
              "      <td>0.166480</td>\n",
              "      <td>0.448154</td>\n",
              "      <td>0.060018</td>\n",
              "      <td>-0.082361</td>\n",
              "      <td>-0.078803</td>\n",
              "      <td>0.085102</td>\n",
              "      <td>-0.255425</td>\n",
              "      <td>-0.166974</td>\n",
              "      <td>1.612727</td>\n",
              "      <td>1.065235</td>\n",
              "      <td>0.489095</td>\n",
              "      <td>-0.143772</td>\n",
              "      <td>0.635558</td>\n",
              "      <td>0.463917</td>\n",
              "      <td>-0.114805</td>\n",
              "      <td>-0.183361</td>\n",
              "      <td>-0.145783</td>\n",
              "      <td>-0.069083</td>\n",
              "      <td>-0.225775</td>\n",
              "      <td>-0.638672</td>\n",
              "      <td>0.101288</td>\n",
              "      <td>-0.339846</td>\n",
              "      <td>0.167170</td>\n",
              "      <td>0.125895</td>\n",
              "      <td>-0.008983</td>\n",
              "      <td>0.014724</td>\n",
              "      <td>2.69</td>\n",
              "      <td>0</td>\n",
              "    </tr>\n",
              "    <tr>\n",
              "      <th>2</th>\n",
              "      <td>1.0</td>\n",
              "      <td>-1.358354</td>\n",
              "      <td>-1.340163</td>\n",
              "      <td>1.773209</td>\n",
              "      <td>0.379780</td>\n",
              "      <td>-0.503198</td>\n",
              "      <td>1.800499</td>\n",
              "      <td>0.791461</td>\n",
              "      <td>0.247676</td>\n",
              "      <td>-1.514654</td>\n",
              "      <td>0.207643</td>\n",
              "      <td>0.624501</td>\n",
              "      <td>0.066084</td>\n",
              "      <td>0.717293</td>\n",
              "      <td>-0.165946</td>\n",
              "      <td>2.345865</td>\n",
              "      <td>-2.890083</td>\n",
              "      <td>1.109969</td>\n",
              "      <td>-0.121359</td>\n",
              "      <td>-2.261857</td>\n",
              "      <td>0.524980</td>\n",
              "      <td>0.247998</td>\n",
              "      <td>0.771679</td>\n",
              "      <td>0.909412</td>\n",
              "      <td>-0.689281</td>\n",
              "      <td>-0.327642</td>\n",
              "      <td>-0.139097</td>\n",
              "      <td>-0.055353</td>\n",
              "      <td>-0.059752</td>\n",
              "      <td>378.66</td>\n",
              "      <td>0</td>\n",
              "    </tr>\n",
              "    <tr>\n",
              "      <th>3</th>\n",
              "      <td>1.0</td>\n",
              "      <td>-0.966272</td>\n",
              "      <td>-0.185226</td>\n",
              "      <td>1.792993</td>\n",
              "      <td>-0.863291</td>\n",
              "      <td>-0.010309</td>\n",
              "      <td>1.247203</td>\n",
              "      <td>0.237609</td>\n",
              "      <td>0.377436</td>\n",
              "      <td>-1.387024</td>\n",
              "      <td>-0.054952</td>\n",
              "      <td>-0.226487</td>\n",
              "      <td>0.178228</td>\n",
              "      <td>0.507757</td>\n",
              "      <td>-0.287924</td>\n",
              "      <td>-0.631418</td>\n",
              "      <td>-1.059647</td>\n",
              "      <td>-0.684093</td>\n",
              "      <td>1.965775</td>\n",
              "      <td>-1.232622</td>\n",
              "      <td>-0.208038</td>\n",
              "      <td>-0.108300</td>\n",
              "      <td>0.005274</td>\n",
              "      <td>-0.190321</td>\n",
              "      <td>-1.175575</td>\n",
              "      <td>0.647376</td>\n",
              "      <td>-0.221929</td>\n",
              "      <td>0.062723</td>\n",
              "      <td>0.061458</td>\n",
              "      <td>123.50</td>\n",
              "      <td>0</td>\n",
              "    </tr>\n",
              "    <tr>\n",
              "      <th>4</th>\n",
              "      <td>2.0</td>\n",
              "      <td>-1.158233</td>\n",
              "      <td>0.877737</td>\n",
              "      <td>1.548718</td>\n",
              "      <td>0.403034</td>\n",
              "      <td>-0.407193</td>\n",
              "      <td>0.095921</td>\n",
              "      <td>0.592941</td>\n",
              "      <td>-0.270533</td>\n",
              "      <td>0.817739</td>\n",
              "      <td>0.753074</td>\n",
              "      <td>-0.822843</td>\n",
              "      <td>0.538196</td>\n",
              "      <td>1.345852</td>\n",
              "      <td>-1.119670</td>\n",
              "      <td>0.175121</td>\n",
              "      <td>-0.451449</td>\n",
              "      <td>-0.237033</td>\n",
              "      <td>-0.038195</td>\n",
              "      <td>0.803487</td>\n",
              "      <td>0.408542</td>\n",
              "      <td>-0.009431</td>\n",
              "      <td>0.798278</td>\n",
              "      <td>-0.137458</td>\n",
              "      <td>0.141267</td>\n",
              "      <td>-0.206010</td>\n",
              "      <td>0.502292</td>\n",
              "      <td>0.219422</td>\n",
              "      <td>0.215153</td>\n",
              "      <td>69.99</td>\n",
              "      <td>0</td>\n",
              "    </tr>\n",
              "  </tbody>\n",
              "</table>\n",
              "</div>"
            ],
            "text/plain": [
              "   Time        V1        V2        V3  ...       V27       V28  Amount  Class\n",
              "0   0.0 -1.359807 -0.072781  2.536347  ...  0.133558 -0.021053  149.62      0\n",
              "1   0.0  1.191857  0.266151  0.166480  ... -0.008983  0.014724    2.69      0\n",
              "2   1.0 -1.358354 -1.340163  1.773209  ... -0.055353 -0.059752  378.66      0\n",
              "3   1.0 -0.966272 -0.185226  1.792993  ...  0.062723  0.061458  123.50      0\n",
              "4   2.0 -1.158233  0.877737  1.548718  ...  0.219422  0.215153   69.99      0\n",
              "\n",
              "[5 rows x 31 columns]"
            ]
          },
          "metadata": {},
          "execution_count": 12
        }
      ]
    },
    {
      "cell_type": "code",
      "metadata": {
        "execution": {
          "iopub.execute_input": "2021-08-15T20:04:15.730278Z",
          "iopub.status.busy": "2021-08-15T20:04:15.729081Z",
          "iopub.status.idle": "2021-08-15T20:04:15.768135Z",
          "shell.execute_reply": "2021-08-15T20:04:15.768678Z",
          "shell.execute_reply.started": "2021-08-15T20:03:16.843248Z"
        },
        "papermill": {
          "duration": 0.082116,
          "end_time": "2021-08-15T20:04:15.768877",
          "exception": false,
          "start_time": "2021-08-15T20:04:15.686761",
          "status": "completed"
        },
        "tags": [],
        "id": "1a58ab8c",
        "colab": {
          "base_uri": "https://localhost:8080/"
        },
        "outputId": "f44d149d-ad78-4c5c-98e6-ad7c307fdfd0"
      },
      "source": [
        "file_transaction.info()"
      ],
      "id": "1a58ab8c",
      "execution_count": null,
      "outputs": [
        {
          "output_type": "stream",
          "text": [
            "<class 'pandas.core.frame.DataFrame'>\n",
            "RangeIndex: 284807 entries, 0 to 284806\n",
            "Data columns (total 31 columns):\n",
            " #   Column  Non-Null Count   Dtype  \n",
            "---  ------  --------------   -----  \n",
            " 0   Time    284807 non-null  float64\n",
            " 1   V1      284807 non-null  float64\n",
            " 2   V2      284807 non-null  float64\n",
            " 3   V3      284807 non-null  float64\n",
            " 4   V4      284807 non-null  float64\n",
            " 5   V5      284807 non-null  float64\n",
            " 6   V6      284807 non-null  float64\n",
            " 7   V7      284807 non-null  float64\n",
            " 8   V8      284807 non-null  float64\n",
            " 9   V9      284807 non-null  float64\n",
            " 10  V10     284807 non-null  float64\n",
            " 11  V11     284807 non-null  float64\n",
            " 12  V12     284807 non-null  float64\n",
            " 13  V13     284807 non-null  float64\n",
            " 14  V14     284807 non-null  float64\n",
            " 15  V15     284807 non-null  float64\n",
            " 16  V16     284807 non-null  float64\n",
            " 17  V17     284807 non-null  float64\n",
            " 18  V18     284807 non-null  float64\n",
            " 19  V19     284807 non-null  float64\n",
            " 20  V20     284807 non-null  float64\n",
            " 21  V21     284807 non-null  float64\n",
            " 22  V22     284807 non-null  float64\n",
            " 23  V23     284807 non-null  float64\n",
            " 24  V24     284807 non-null  float64\n",
            " 25  V25     284807 non-null  float64\n",
            " 26  V26     284807 non-null  float64\n",
            " 27  V27     284807 non-null  float64\n",
            " 28  V28     284807 non-null  float64\n",
            " 29  Amount  284807 non-null  float64\n",
            " 30  Class   284807 non-null  int64  \n",
            "dtypes: float64(30), int64(1)\n",
            "memory usage: 67.4 MB\n"
          ],
          "name": "stdout"
        }
      ]
    },
    {
      "cell_type": "code",
      "metadata": {
        "execution": {
          "iopub.execute_input": "2021-08-15T20:04:15.849516Z",
          "iopub.status.busy": "2021-08-15T20:04:15.848748Z",
          "iopub.status.idle": "2021-08-15T20:04:15.873061Z",
          "shell.execute_reply": "2021-08-15T20:04:15.872515Z",
          "shell.execute_reply.started": "2021-08-15T20:03:16.877516Z"
        },
        "papermill": {
          "duration": 0.066154,
          "end_time": "2021-08-15T20:04:15.873214",
          "exception": false,
          "start_time": "2021-08-15T20:04:15.807060",
          "status": "completed"
        },
        "tags": [],
        "id": "3ed9d06b",
        "colab": {
          "base_uri": "https://localhost:8080/"
        },
        "outputId": "5587503c-1358-4dfc-a519-0b4cd7520c42"
      },
      "source": [
        "file_transaction.isnull().sum()"
      ],
      "id": "3ed9d06b",
      "execution_count": null,
      "outputs": [
        {
          "output_type": "execute_result",
          "data": {
            "text/plain": [
              "Time      0\n",
              "V1        0\n",
              "V2        0\n",
              "V3        0\n",
              "V4        0\n",
              "V5        0\n",
              "V6        0\n",
              "V7        0\n",
              "V8        0\n",
              "V9        0\n",
              "V10       0\n",
              "V11       0\n",
              "V12       0\n",
              "V13       0\n",
              "V14       0\n",
              "V15       0\n",
              "V16       0\n",
              "V17       0\n",
              "V18       0\n",
              "V19       0\n",
              "V20       0\n",
              "V21       0\n",
              "V22       0\n",
              "V23       0\n",
              "V24       0\n",
              "V25       0\n",
              "V26       0\n",
              "V27       0\n",
              "V28       0\n",
              "Amount    0\n",
              "Class     0\n",
              "dtype: int64"
            ]
          },
          "metadata": {},
          "execution_count": 15
        }
      ]
    },
    {
      "cell_type": "code",
      "metadata": {
        "execution": {
          "iopub.execute_input": "2021-08-15T20:04:15.952475Z",
          "iopub.status.busy": "2021-08-15T20:04:15.951757Z",
          "iopub.status.idle": "2021-08-15T20:04:15.961650Z",
          "shell.execute_reply": "2021-08-15T20:04:15.962229Z",
          "shell.execute_reply.started": "2021-08-15T20:03:16.902958Z"
        },
        "papermill": {
          "duration": 0.051644,
          "end_time": "2021-08-15T20:04:15.962422",
          "exception": false,
          "start_time": "2021-08-15T20:04:15.910778",
          "status": "completed"
        },
        "tags": [],
        "id": "383dd651",
        "colab": {
          "base_uri": "https://localhost:8080/"
        },
        "outputId": "3aaab529-ca0d-4c75-eda6-98d7cb9fb18a"
      },
      "source": [
        "file_transaction['Class'].value_counts()"
      ],
      "id": "383dd651",
      "execution_count": null,
      "outputs": [
        {
          "output_type": "execute_result",
          "data": {
            "text/plain": [
              "0    284315\n",
              "1       492\n",
              "Name: Class, dtype: int64"
            ]
          },
          "metadata": {},
          "execution_count": 16
        }
      ]
    },
    {
      "cell_type": "code",
      "metadata": {
        "execution": {
          "iopub.execute_input": "2021-08-15T20:04:16.118946Z",
          "iopub.status.busy": "2021-08-15T20:04:16.118316Z",
          "iopub.status.idle": "2021-08-15T20:04:16.184218Z",
          "shell.execute_reply": "2021-08-15T20:04:16.184719Z",
          "shell.execute_reply.started": "2021-08-15T20:03:16.915956Z"
        },
        "papermill": {
          "duration": 0.107665,
          "end_time": "2021-08-15T20:04:16.184893",
          "exception": false,
          "start_time": "2021-08-15T20:04:16.077228",
          "status": "completed"
        },
        "tags": [],
        "id": "3a6f63e1"
      },
      "source": [
        "file_legit_transaction = file_transaction[file_transaction.Class == 0] \n",
        "file_fraud_transaction = file_transaction[file_transaction.Class == 1]\n",
        "#print(file_fraud_transaction.to_string()) # print the new sub table"
      ],
      "id": "3a6f63e1",
      "execution_count": null,
      "outputs": []
    },
    {
      "cell_type": "code",
      "metadata": {
        "execution": {
          "iopub.execute_input": "2021-08-15T20:04:16.264719Z",
          "iopub.status.busy": "2021-08-15T20:04:16.264091Z",
          "iopub.status.idle": "2021-08-15T20:04:16.269853Z",
          "shell.execute_reply": "2021-08-15T20:04:16.269289Z",
          "shell.execute_reply.started": "2021-08-15T20:03:16.964594Z"
        },
        "papermill": {
          "duration": 0.046695,
          "end_time": "2021-08-15T20:04:16.269991",
          "exception": false,
          "start_time": "2021-08-15T20:04:16.223296",
          "status": "completed"
        },
        "tags": [],
        "id": "5c4af788",
        "colab": {
          "base_uri": "https://localhost:8080/"
        },
        "outputId": "bcfc0313-040e-4b98-eb7b-810148194931"
      },
      "source": [
        "print(file_legit_transaction.shape)\n",
        "print(file_fraud_transaction.shape)"
      ],
      "id": "5c4af788",
      "execution_count": null,
      "outputs": [
        {
          "output_type": "stream",
          "text": [
            "(284315, 31)\n",
            "(492, 31)\n"
          ],
          "name": "stdout"
        }
      ]
    },
    {
      "cell_type": "code",
      "metadata": {
        "execution": {
          "iopub.execute_input": "2021-08-15T20:04:16.352187Z",
          "iopub.status.busy": "2021-08-15T20:04:16.351216Z",
          "iopub.status.idle": "2021-08-15T20:04:16.374364Z",
          "shell.execute_reply": "2021-08-15T20:04:16.374956Z",
          "shell.execute_reply.started": "2021-08-15T20:03:16.973630Z"
        },
        "papermill": {
          "duration": 0.065838,
          "end_time": "2021-08-15T20:04:16.375142",
          "exception": false,
          "start_time": "2021-08-15T20:04:16.309304",
          "status": "completed"
        },
        "tags": [],
        "id": "2983b2ea",
        "colab": {
          "base_uri": "https://localhost:8080/"
        },
        "outputId": "babd7305-0c76-4738-96fd-212e5af0b123"
      },
      "source": [
        "# Statistical Measure of the data\n",
        "file_legit_transaction.Amount.describe()"
      ],
      "id": "2983b2ea",
      "execution_count": null,
      "outputs": [
        {
          "output_type": "execute_result",
          "data": {
            "text/plain": [
              "count    284315.000000\n",
              "mean         88.291022\n",
              "std         250.105092\n",
              "min           0.000000\n",
              "25%           5.650000\n",
              "50%          22.000000\n",
              "75%          77.050000\n",
              "max       25691.160000\n",
              "Name: Amount, dtype: float64"
            ]
          },
          "metadata": {},
          "execution_count": 19
        }
      ]
    },
    {
      "cell_type": "code",
      "metadata": {
        "execution": {
          "iopub.execute_input": "2021-08-15T20:04:16.457479Z",
          "iopub.status.busy": "2021-08-15T20:04:16.456796Z",
          "iopub.status.idle": "2021-08-15T20:04:16.465734Z",
          "shell.execute_reply": "2021-08-15T20:04:16.466284Z",
          "shell.execute_reply.started": "2021-08-15T20:03:17.006956Z"
        },
        "papermill": {
          "duration": 0.050997,
          "end_time": "2021-08-15T20:04:16.466455",
          "exception": false,
          "start_time": "2021-08-15T20:04:16.415458",
          "status": "completed"
        },
        "tags": [],
        "id": "81d1a4b8",
        "colab": {
          "base_uri": "https://localhost:8080/"
        },
        "outputId": "14f8496c-5eb3-4f7e-a908-8b8a7726485c"
      },
      "source": [
        "file_fraud_transaction.Amount.describe()"
      ],
      "id": "81d1a4b8",
      "execution_count": null,
      "outputs": [
        {
          "output_type": "execute_result",
          "data": {
            "text/plain": [
              "count     492.000000\n",
              "mean      122.211321\n",
              "std       256.683288\n",
              "min         0.000000\n",
              "25%         1.000000\n",
              "50%         9.250000\n",
              "75%       105.890000\n",
              "max      2125.870000\n",
              "Name: Amount, dtype: float64"
            ]
          },
          "metadata": {},
          "execution_count": 20
        }
      ]
    },
    {
      "cell_type": "code",
      "metadata": {
        "execution": {
          "iopub.execute_input": "2021-08-15T20:04:16.547763Z",
          "iopub.status.busy": "2021-08-15T20:04:16.547155Z",
          "iopub.status.idle": "2021-08-15T20:04:16.672122Z",
          "shell.execute_reply": "2021-08-15T20:04:16.671139Z",
          "shell.execute_reply.started": "2021-08-15T20:03:17.018790Z"
        },
        "papermill": {
          "duration": 0.166764,
          "end_time": "2021-08-15T20:04:16.672274",
          "exception": false,
          "start_time": "2021-08-15T20:04:16.505510",
          "status": "completed"
        },
        "tags": [],
        "id": "79877449",
        "colab": {
          "base_uri": "https://localhost:8080/",
          "height": 162
        },
        "outputId": "ec6630f9-9b50-4cb2-c634-ba365b6a81a1"
      },
      "source": [
        "file_transaction.groupby('Class').mean()"
      ],
      "id": "79877449",
      "execution_count": null,
      "outputs": [
        {
          "output_type": "execute_result",
          "data": {
            "text/html": [
              "<div>\n",
              "<style scoped>\n",
              "    .dataframe tbody tr th:only-of-type {\n",
              "        vertical-align: middle;\n",
              "    }\n",
              "\n",
              "    .dataframe tbody tr th {\n",
              "        vertical-align: top;\n",
              "    }\n",
              "\n",
              "    .dataframe thead th {\n",
              "        text-align: right;\n",
              "    }\n",
              "</style>\n",
              "<table border=\"1\" class=\"dataframe\">\n",
              "  <thead>\n",
              "    <tr style=\"text-align: right;\">\n",
              "      <th></th>\n",
              "      <th>Time</th>\n",
              "      <th>V1</th>\n",
              "      <th>V2</th>\n",
              "      <th>V3</th>\n",
              "      <th>V4</th>\n",
              "      <th>V5</th>\n",
              "      <th>V6</th>\n",
              "      <th>V7</th>\n",
              "      <th>V8</th>\n",
              "      <th>V9</th>\n",
              "      <th>V10</th>\n",
              "      <th>V11</th>\n",
              "      <th>V12</th>\n",
              "      <th>V13</th>\n",
              "      <th>V14</th>\n",
              "      <th>V15</th>\n",
              "      <th>V16</th>\n",
              "      <th>V17</th>\n",
              "      <th>V18</th>\n",
              "      <th>V19</th>\n",
              "      <th>V20</th>\n",
              "      <th>V21</th>\n",
              "      <th>V22</th>\n",
              "      <th>V23</th>\n",
              "      <th>V24</th>\n",
              "      <th>V25</th>\n",
              "      <th>V26</th>\n",
              "      <th>V27</th>\n",
              "      <th>V28</th>\n",
              "      <th>Amount</th>\n",
              "    </tr>\n",
              "    <tr>\n",
              "      <th>Class</th>\n",
              "      <th></th>\n",
              "      <th></th>\n",
              "      <th></th>\n",
              "      <th></th>\n",
              "      <th></th>\n",
              "      <th></th>\n",
              "      <th></th>\n",
              "      <th></th>\n",
              "      <th></th>\n",
              "      <th></th>\n",
              "      <th></th>\n",
              "      <th></th>\n",
              "      <th></th>\n",
              "      <th></th>\n",
              "      <th></th>\n",
              "      <th></th>\n",
              "      <th></th>\n",
              "      <th></th>\n",
              "      <th></th>\n",
              "      <th></th>\n",
              "      <th></th>\n",
              "      <th></th>\n",
              "      <th></th>\n",
              "      <th></th>\n",
              "      <th></th>\n",
              "      <th></th>\n",
              "      <th></th>\n",
              "      <th></th>\n",
              "      <th></th>\n",
              "      <th></th>\n",
              "    </tr>\n",
              "  </thead>\n",
              "  <tbody>\n",
              "    <tr>\n",
              "      <th>0</th>\n",
              "      <td>94838.202258</td>\n",
              "      <td>0.008258</td>\n",
              "      <td>-0.006271</td>\n",
              "      <td>0.012171</td>\n",
              "      <td>-0.007860</td>\n",
              "      <td>0.005453</td>\n",
              "      <td>0.002419</td>\n",
              "      <td>0.009637</td>\n",
              "      <td>-0.000987</td>\n",
              "      <td>0.004467</td>\n",
              "      <td>0.009824</td>\n",
              "      <td>-0.006576</td>\n",
              "      <td>0.010832</td>\n",
              "      <td>0.000189</td>\n",
              "      <td>0.012064</td>\n",
              "      <td>0.000161</td>\n",
              "      <td>0.007164</td>\n",
              "      <td>0.011535</td>\n",
              "      <td>0.003887</td>\n",
              "      <td>-0.001178</td>\n",
              "      <td>-0.000644</td>\n",
              "      <td>-0.001235</td>\n",
              "      <td>-0.000024</td>\n",
              "      <td>0.000070</td>\n",
              "      <td>0.000182</td>\n",
              "      <td>-0.000072</td>\n",
              "      <td>-0.000089</td>\n",
              "      <td>-0.000295</td>\n",
              "      <td>-0.000131</td>\n",
              "      <td>88.291022</td>\n",
              "    </tr>\n",
              "    <tr>\n",
              "      <th>1</th>\n",
              "      <td>80746.806911</td>\n",
              "      <td>-4.771948</td>\n",
              "      <td>3.623778</td>\n",
              "      <td>-7.033281</td>\n",
              "      <td>4.542029</td>\n",
              "      <td>-3.151225</td>\n",
              "      <td>-1.397737</td>\n",
              "      <td>-5.568731</td>\n",
              "      <td>0.570636</td>\n",
              "      <td>-2.581123</td>\n",
              "      <td>-5.676883</td>\n",
              "      <td>3.800173</td>\n",
              "      <td>-6.259393</td>\n",
              "      <td>-0.109334</td>\n",
              "      <td>-6.971723</td>\n",
              "      <td>-0.092929</td>\n",
              "      <td>-4.139946</td>\n",
              "      <td>-6.665836</td>\n",
              "      <td>-2.246308</td>\n",
              "      <td>0.680659</td>\n",
              "      <td>0.372319</td>\n",
              "      <td>0.713588</td>\n",
              "      <td>0.014049</td>\n",
              "      <td>-0.040308</td>\n",
              "      <td>-0.105130</td>\n",
              "      <td>0.041449</td>\n",
              "      <td>0.051648</td>\n",
              "      <td>0.170575</td>\n",
              "      <td>0.075667</td>\n",
              "      <td>122.211321</td>\n",
              "    </tr>\n",
              "  </tbody>\n",
              "</table>\n",
              "</div>"
            ],
            "text/plain": [
              "               Time        V1        V2  ...       V27       V28      Amount\n",
              "Class                                    ...                                \n",
              "0      94838.202258  0.008258 -0.006271  ... -0.000295 -0.000131   88.291022\n",
              "1      80746.806911 -4.771948  3.623778  ...  0.170575  0.075667  122.211321\n",
              "\n",
              "[2 rows x 30 columns]"
            ]
          },
          "metadata": {},
          "execution_count": 21
        }
      ]
    },
    {
      "cell_type": "code",
      "metadata": {
        "execution": {
          "iopub.execute_input": "2021-08-15T20:04:16.757215Z",
          "iopub.status.busy": "2021-08-15T20:04:16.756479Z",
          "iopub.status.idle": "2021-08-15T20:04:16.768395Z",
          "shell.execute_reply": "2021-08-15T20:04:16.767791Z",
          "shell.execute_reply.started": "2021-08-15T20:03:17.167063Z"
        },
        "papermill": {
          "duration": 0.056258,
          "end_time": "2021-08-15T20:04:16.768540",
          "exception": false,
          "start_time": "2021-08-15T20:04:16.712282",
          "status": "completed"
        },
        "tags": [],
        "id": "80d0c7fc"
      },
      "source": [
        "file_legit_transaction_sample = file_legit_transaction.sample(n=492)"
      ],
      "id": "80d0c7fc",
      "execution_count": null,
      "outputs": []
    },
    {
      "cell_type": "code",
      "metadata": {
        "execution": {
          "iopub.execute_input": "2021-08-15T20:04:16.854284Z",
          "iopub.status.busy": "2021-08-15T20:04:16.853590Z",
          "iopub.status.idle": "2021-08-15T20:04:16.858197Z",
          "shell.execute_reply": "2021-08-15T20:04:16.858697Z",
          "shell.execute_reply.started": "2021-08-15T20:03:17.186042Z"
        },
        "papermill": {
          "duration": 0.047731,
          "end_time": "2021-08-15T20:04:16.858875",
          "exception": false,
          "start_time": "2021-08-15T20:04:16.811144",
          "status": "completed"
        },
        "tags": [],
        "id": "f24bc81f"
      },
      "source": [
        "new_file_transaction= pd.concat([file_legit_transaction_sample, file_fraud_transaction], axis = 0)"
      ],
      "id": "f24bc81f",
      "execution_count": null,
      "outputs": []
    },
    {
      "cell_type": "code",
      "metadata": {
        "execution": {
          "iopub.execute_input": "2021-08-15T20:04:16.943912Z",
          "iopub.status.busy": "2021-08-15T20:04:16.942820Z",
          "iopub.status.idle": "2021-08-15T20:04:16.948633Z",
          "shell.execute_reply": "2021-08-15T20:04:16.949156Z",
          "shell.execute_reply.started": "2021-08-15T20:03:17.195239Z"
        },
        "papermill": {
          "duration": 0.050198,
          "end_time": "2021-08-15T20:04:16.949346",
          "exception": false,
          "start_time": "2021-08-15T20:04:16.899148",
          "status": "completed"
        },
        "tags": [],
        "id": "d62ed18d",
        "colab": {
          "base_uri": "https://localhost:8080/"
        },
        "outputId": "8ca7d5a1-ca42-40d2-c66f-9c6f48defc09"
      },
      "source": [
        "new_file_transaction.shape"
      ],
      "id": "d62ed18d",
      "execution_count": null,
      "outputs": [
        {
          "output_type": "execute_result",
          "data": {
            "text/plain": [
              "(984, 31)"
            ]
          },
          "metadata": {},
          "execution_count": 114
        }
      ]
    },
    {
      "cell_type": "code",
      "metadata": {
        "execution": {
          "iopub.execute_input": "2021-08-15T20:04:17.034340Z",
          "iopub.status.busy": "2021-08-15T20:04:17.033342Z",
          "iopub.status.idle": "2021-08-15T20:04:17.061641Z",
          "shell.execute_reply": "2021-08-15T20:04:17.061080Z",
          "shell.execute_reply.started": "2021-08-15T20:03:17.208638Z"
        },
        "papermill": {
          "duration": 0.071769,
          "end_time": "2021-08-15T20:04:17.061781",
          "exception": false,
          "start_time": "2021-08-15T20:04:16.990012",
          "status": "completed"
        },
        "tags": [],
        "id": "038b58c8",
        "colab": {
          "base_uri": "https://localhost:8080/",
          "height": 193
        },
        "outputId": "f6d9275d-f7cd-4040-cbb1-9856eb295cd0"
      },
      "source": [
        "new_file_transaction.head(4)"
      ],
      "id": "038b58c8",
      "execution_count": null,
      "outputs": [
        {
          "output_type": "execute_result",
          "data": {
            "text/html": [
              "<div>\n",
              "<style scoped>\n",
              "    .dataframe tbody tr th:only-of-type {\n",
              "        vertical-align: middle;\n",
              "    }\n",
              "\n",
              "    .dataframe tbody tr th {\n",
              "        vertical-align: top;\n",
              "    }\n",
              "\n",
              "    .dataframe thead th {\n",
              "        text-align: right;\n",
              "    }\n",
              "</style>\n",
              "<table border=\"1\" class=\"dataframe\">\n",
              "  <thead>\n",
              "    <tr style=\"text-align: right;\">\n",
              "      <th></th>\n",
              "      <th>Time</th>\n",
              "      <th>V1</th>\n",
              "      <th>V2</th>\n",
              "      <th>V3</th>\n",
              "      <th>V4</th>\n",
              "      <th>V5</th>\n",
              "      <th>V6</th>\n",
              "      <th>V7</th>\n",
              "      <th>V8</th>\n",
              "      <th>V9</th>\n",
              "      <th>V10</th>\n",
              "      <th>V11</th>\n",
              "      <th>V12</th>\n",
              "      <th>V13</th>\n",
              "      <th>V14</th>\n",
              "      <th>V15</th>\n",
              "      <th>V16</th>\n",
              "      <th>V17</th>\n",
              "      <th>V18</th>\n",
              "      <th>V19</th>\n",
              "      <th>V20</th>\n",
              "      <th>V21</th>\n",
              "      <th>V22</th>\n",
              "      <th>V23</th>\n",
              "      <th>V24</th>\n",
              "      <th>V25</th>\n",
              "      <th>V26</th>\n",
              "      <th>V27</th>\n",
              "      <th>V28</th>\n",
              "      <th>Amount</th>\n",
              "      <th>Class</th>\n",
              "    </tr>\n",
              "  </thead>\n",
              "  <tbody>\n",
              "    <tr>\n",
              "      <th>10573</th>\n",
              "      <td>17526.0</td>\n",
              "      <td>-6.670606</td>\n",
              "      <td>5.163815</td>\n",
              "      <td>-9.484282</td>\n",
              "      <td>4.849274</td>\n",
              "      <td>2.782462</td>\n",
              "      <td>1.029472</td>\n",
              "      <td>-2.424039</td>\n",
              "      <td>4.463098</td>\n",
              "      <td>-2.253184</td>\n",
              "      <td>-2.211725</td>\n",
              "      <td>1.636615</td>\n",
              "      <td>-3.306041</td>\n",
              "      <td>1.721414</td>\n",
              "      <td>-3.109929</td>\n",
              "      <td>0.125672</td>\n",
              "      <td>3.448418</td>\n",
              "      <td>8.538195</td>\n",
              "      <td>4.199591</td>\n",
              "      <td>-0.820060</td>\n",
              "      <td>-0.575025</td>\n",
              "      <td>-0.160400</td>\n",
              "      <td>-0.962718</td>\n",
              "      <td>-1.450336</td>\n",
              "      <td>0.409975</td>\n",
              "      <td>0.501064</td>\n",
              "      <td>0.587661</td>\n",
              "      <td>-0.357686</td>\n",
              "      <td>-0.524894</td>\n",
              "      <td>1.00</td>\n",
              "      <td>0</td>\n",
              "    </tr>\n",
              "    <tr>\n",
              "      <th>128046</th>\n",
              "      <td>78580.0</td>\n",
              "      <td>-0.479185</td>\n",
              "      <td>-0.518687</td>\n",
              "      <td>0.458337</td>\n",
              "      <td>-3.631914</td>\n",
              "      <td>1.756679</td>\n",
              "      <td>3.320033</td>\n",
              "      <td>-0.478855</td>\n",
              "      <td>0.587832</td>\n",
              "      <td>-2.445937</td>\n",
              "      <td>1.061418</td>\n",
              "      <td>-0.363671</td>\n",
              "      <td>-1.482894</td>\n",
              "      <td>0.288210</td>\n",
              "      <td>-0.553968</td>\n",
              "      <td>0.254566</td>\n",
              "      <td>-0.044709</td>\n",
              "      <td>-0.292530</td>\n",
              "      <td>0.470494</td>\n",
              "      <td>-0.288407</td>\n",
              "      <td>-0.133713</td>\n",
              "      <td>-0.253976</td>\n",
              "      <td>-0.458342</td>\n",
              "      <td>-0.325432</td>\n",
              "      <td>0.970334</td>\n",
              "      <td>0.517264</td>\n",
              "      <td>-0.305732</td>\n",
              "      <td>-0.253089</td>\n",
              "      <td>-0.150436</td>\n",
              "      <td>15.00</td>\n",
              "      <td>0</td>\n",
              "    </tr>\n",
              "    <tr>\n",
              "      <th>225673</th>\n",
              "      <td>144345.0</td>\n",
              "      <td>1.895713</td>\n",
              "      <td>-1.547156</td>\n",
              "      <td>-2.600566</td>\n",
              "      <td>-3.104195</td>\n",
              "      <td>0.453455</td>\n",
              "      <td>0.607453</td>\n",
              "      <td>-0.193953</td>\n",
              "      <td>0.066715</td>\n",
              "      <td>0.515055</td>\n",
              "      <td>-0.403885</td>\n",
              "      <td>1.022519</td>\n",
              "      <td>1.292792</td>\n",
              "      <td>0.326260</td>\n",
              "      <td>0.725984</td>\n",
              "      <td>1.134756</td>\n",
              "      <td>-3.330520</td>\n",
              "      <td>0.528064</td>\n",
              "      <td>0.587929</td>\n",
              "      <td>-0.221167</td>\n",
              "      <td>-0.385963</td>\n",
              "      <td>-0.077579</td>\n",
              "      <td>0.273031</td>\n",
              "      <td>-0.047638</td>\n",
              "      <td>-0.934870</td>\n",
              "      <td>0.183372</td>\n",
              "      <td>-0.632670</td>\n",
              "      <td>0.051896</td>\n",
              "      <td>-0.055097</td>\n",
              "      <td>140.89</td>\n",
              "      <td>0</td>\n",
              "    </tr>\n",
              "    <tr>\n",
              "      <th>46479</th>\n",
              "      <td>42805.0</td>\n",
              "      <td>-3.342513</td>\n",
              "      <td>-2.770958</td>\n",
              "      <td>0.923316</td>\n",
              "      <td>1.949572</td>\n",
              "      <td>0.228935</td>\n",
              "      <td>-0.689461</td>\n",
              "      <td>-0.419406</td>\n",
              "      <td>0.806576</td>\n",
              "      <td>0.109976</td>\n",
              "      <td>-0.620545</td>\n",
              "      <td>-1.011700</td>\n",
              "      <td>-0.476969</td>\n",
              "      <td>-1.324442</td>\n",
              "      <td>0.654048</td>\n",
              "      <td>1.126505</td>\n",
              "      <td>-0.352020</td>\n",
              "      <td>0.499346</td>\n",
              "      <td>0.320973</td>\n",
              "      <td>-0.031939</td>\n",
              "      <td>1.456159</td>\n",
              "      <td>0.676662</td>\n",
              "      <td>0.510900</td>\n",
              "      <td>0.635032</td>\n",
              "      <td>0.039481</td>\n",
              "      <td>-0.010673</td>\n",
              "      <td>-0.173436</td>\n",
              "      <td>0.236858</td>\n",
              "      <td>-0.260285</td>\n",
              "      <td>352.00</td>\n",
              "      <td>0</td>\n",
              "    </tr>\n",
              "  </tbody>\n",
              "</table>\n",
              "</div>"
            ],
            "text/plain": [
              "            Time        V1        V2  ...       V28  Amount  Class\n",
              "10573    17526.0 -6.670606  5.163815  ... -0.524894    1.00      0\n",
              "128046   78580.0 -0.479185 -0.518687  ... -0.150436   15.00      0\n",
              "225673  144345.0  1.895713 -1.547156  ... -0.055097  140.89      0\n",
              "46479    42805.0 -3.342513 -2.770958  ... -0.260285  352.00      0\n",
              "\n",
              "[4 rows x 31 columns]"
            ]
          },
          "metadata": {},
          "execution_count": 115
        }
      ]
    },
    {
      "cell_type": "code",
      "metadata": {
        "execution": {
          "iopub.execute_input": "2021-08-15T20:04:17.149883Z",
          "iopub.status.busy": "2021-08-15T20:04:17.149199Z",
          "iopub.status.idle": "2021-08-15T20:04:17.152712Z",
          "shell.execute_reply": "2021-08-15T20:04:17.153205Z",
          "shell.execute_reply.started": "2021-08-15T20:03:17.248603Z"
        },
        "papermill": {
          "duration": 0.050948,
          "end_time": "2021-08-15T20:04:17.153386",
          "exception": false,
          "start_time": "2021-08-15T20:04:17.102438",
          "status": "completed"
        },
        "tags": [],
        "id": "acc6eb97",
        "colab": {
          "base_uri": "https://localhost:8080/"
        },
        "outputId": "475d4a48-90e1-4cbb-93d3-4988ff2820dc"
      },
      "source": [
        "new_file_transaction['Class'].value_counts()"
      ],
      "id": "acc6eb97",
      "execution_count": null,
      "outputs": [
        {
          "output_type": "execute_result",
          "data": {
            "text/plain": [
              "1    492\n",
              "0    492\n",
              "Name: Class, dtype: int64"
            ]
          },
          "metadata": {},
          "execution_count": 116
        }
      ]
    },
    {
      "cell_type": "code",
      "metadata": {
        "execution": {
          "iopub.execute_input": "2021-08-15T20:04:17.245052Z",
          "iopub.status.busy": "2021-08-15T20:04:17.244375Z",
          "iopub.status.idle": "2021-08-15T20:04:17.268591Z",
          "shell.execute_reply": "2021-08-15T20:04:17.267971Z",
          "shell.execute_reply.started": "2021-08-15T20:03:17.258389Z"
        },
        "papermill": {
          "duration": 0.073136,
          "end_time": "2021-08-15T20:04:17.268736",
          "exception": false,
          "start_time": "2021-08-15T20:04:17.195600",
          "status": "completed"
        },
        "tags": [],
        "id": "24c51caf",
        "colab": {
          "base_uri": "https://localhost:8080/",
          "height": 162
        },
        "outputId": "a28faac9-47e9-47fc-8f72-c1a3fe0aaa5b"
      },
      "source": [
        "new_file_transaction.groupby('Class').mean()"
      ],
      "id": "24c51caf",
      "execution_count": null,
      "outputs": [
        {
          "output_type": "execute_result",
          "data": {
            "text/html": [
              "<div>\n",
              "<style scoped>\n",
              "    .dataframe tbody tr th:only-of-type {\n",
              "        vertical-align: middle;\n",
              "    }\n",
              "\n",
              "    .dataframe tbody tr th {\n",
              "        vertical-align: top;\n",
              "    }\n",
              "\n",
              "    .dataframe thead th {\n",
              "        text-align: right;\n",
              "    }\n",
              "</style>\n",
              "<table border=\"1\" class=\"dataframe\">\n",
              "  <thead>\n",
              "    <tr style=\"text-align: right;\">\n",
              "      <th></th>\n",
              "      <th>Time</th>\n",
              "      <th>V1</th>\n",
              "      <th>V2</th>\n",
              "      <th>V3</th>\n",
              "      <th>V4</th>\n",
              "      <th>V5</th>\n",
              "      <th>V6</th>\n",
              "      <th>V7</th>\n",
              "      <th>V8</th>\n",
              "      <th>V9</th>\n",
              "      <th>V10</th>\n",
              "      <th>V11</th>\n",
              "      <th>V12</th>\n",
              "      <th>V13</th>\n",
              "      <th>V14</th>\n",
              "      <th>V15</th>\n",
              "      <th>V16</th>\n",
              "      <th>V17</th>\n",
              "      <th>V18</th>\n",
              "      <th>V19</th>\n",
              "      <th>V20</th>\n",
              "      <th>V21</th>\n",
              "      <th>V22</th>\n",
              "      <th>V23</th>\n",
              "      <th>V24</th>\n",
              "      <th>V25</th>\n",
              "      <th>V26</th>\n",
              "      <th>V27</th>\n",
              "      <th>V28</th>\n",
              "      <th>Amount</th>\n",
              "    </tr>\n",
              "    <tr>\n",
              "      <th>Class</th>\n",
              "      <th></th>\n",
              "      <th></th>\n",
              "      <th></th>\n",
              "      <th></th>\n",
              "      <th></th>\n",
              "      <th></th>\n",
              "      <th></th>\n",
              "      <th></th>\n",
              "      <th></th>\n",
              "      <th></th>\n",
              "      <th></th>\n",
              "      <th></th>\n",
              "      <th></th>\n",
              "      <th></th>\n",
              "      <th></th>\n",
              "      <th></th>\n",
              "      <th></th>\n",
              "      <th></th>\n",
              "      <th></th>\n",
              "      <th></th>\n",
              "      <th></th>\n",
              "      <th></th>\n",
              "      <th></th>\n",
              "      <th></th>\n",
              "      <th></th>\n",
              "      <th></th>\n",
              "      <th></th>\n",
              "      <th></th>\n",
              "      <th></th>\n",
              "      <th></th>\n",
              "    </tr>\n",
              "  </thead>\n",
              "  <tbody>\n",
              "    <tr>\n",
              "      <th>0</th>\n",
              "      <td>97904.628049</td>\n",
              "      <td>-0.116542</td>\n",
              "      <td>0.114392</td>\n",
              "      <td>-0.035106</td>\n",
              "      <td>-0.055781</td>\n",
              "      <td>-0.046460</td>\n",
              "      <td>-0.032244</td>\n",
              "      <td>-0.049628</td>\n",
              "      <td>-0.050316</td>\n",
              "      <td>0.061658</td>\n",
              "      <td>-0.082586</td>\n",
              "      <td>-0.137419</td>\n",
              "      <td>0.020123</td>\n",
              "      <td>-0.076291</td>\n",
              "      <td>0.004360</td>\n",
              "      <td>-0.026695</td>\n",
              "      <td>0.024537</td>\n",
              "      <td>0.050714</td>\n",
              "      <td>0.006532</td>\n",
              "      <td>0.031809</td>\n",
              "      <td>0.068958</td>\n",
              "      <td>-0.074119</td>\n",
              "      <td>0.008529</td>\n",
              "      <td>0.029564</td>\n",
              "      <td>-0.029777</td>\n",
              "      <td>-0.051888</td>\n",
              "      <td>-0.028561</td>\n",
              "      <td>-0.014724</td>\n",
              "      <td>-0.004440</td>\n",
              "      <td>87.419085</td>\n",
              "    </tr>\n",
              "    <tr>\n",
              "      <th>1</th>\n",
              "      <td>80746.806911</td>\n",
              "      <td>-4.771948</td>\n",
              "      <td>3.623778</td>\n",
              "      <td>-7.033281</td>\n",
              "      <td>4.542029</td>\n",
              "      <td>-3.151225</td>\n",
              "      <td>-1.397737</td>\n",
              "      <td>-5.568731</td>\n",
              "      <td>0.570636</td>\n",
              "      <td>-2.581123</td>\n",
              "      <td>-5.676883</td>\n",
              "      <td>3.800173</td>\n",
              "      <td>-6.259393</td>\n",
              "      <td>-0.109334</td>\n",
              "      <td>-6.971723</td>\n",
              "      <td>-0.092929</td>\n",
              "      <td>-4.139946</td>\n",
              "      <td>-6.665836</td>\n",
              "      <td>-2.246308</td>\n",
              "      <td>0.680659</td>\n",
              "      <td>0.372319</td>\n",
              "      <td>0.713588</td>\n",
              "      <td>0.014049</td>\n",
              "      <td>-0.040308</td>\n",
              "      <td>-0.105130</td>\n",
              "      <td>0.041449</td>\n",
              "      <td>0.051648</td>\n",
              "      <td>0.170575</td>\n",
              "      <td>0.075667</td>\n",
              "      <td>122.211321</td>\n",
              "    </tr>\n",
              "  </tbody>\n",
              "</table>\n",
              "</div>"
            ],
            "text/plain": [
              "               Time        V1        V2  ...       V27       V28      Amount\n",
              "Class                                    ...                                \n",
              "0      97904.628049 -0.116542  0.114392  ... -0.014724 -0.004440   87.419085\n",
              "1      80746.806911 -4.771948  3.623778  ...  0.170575  0.075667  122.211321\n",
              "\n",
              "[2 rows x 30 columns]"
            ]
          },
          "metadata": {},
          "execution_count": 117
        }
      ]
    },
    {
      "cell_type": "code",
      "metadata": {
        "execution": {
          "iopub.execute_input": "2021-08-15T20:04:17.356125Z",
          "iopub.status.busy": "2021-08-15T20:04:17.355498Z",
          "iopub.status.idle": "2021-08-15T20:04:17.360684Z",
          "shell.execute_reply": "2021-08-15T20:04:17.361220Z",
          "shell.execute_reply.started": "2021-08-15T20:03:17.293705Z"
        },
        "papermill": {
          "duration": 0.050124,
          "end_time": "2021-08-15T20:04:17.361399",
          "exception": false,
          "start_time": "2021-08-15T20:04:17.311275",
          "status": "completed"
        },
        "tags": [],
        "id": "91ee58d7"
      },
      "source": [
        "# Splitting the data into features & target\n",
        "X = new_file_transaction.drop(columns = 'Class', axis=1)\n",
        "Y = new_file_transaction['Class']"
      ],
      "id": "91ee58d7",
      "execution_count": null,
      "outputs": []
    },
    {
      "cell_type": "code",
      "metadata": {
        "execution": {
          "iopub.execute_input": "2021-08-15T20:04:17.447856Z",
          "iopub.status.busy": "2021-08-15T20:04:17.447235Z",
          "iopub.status.idle": "2021-08-15T20:04:17.452010Z",
          "shell.execute_reply": "2021-08-15T20:04:17.452537Z",
          "shell.execute_reply.started": "2021-08-15T20:03:17.302786Z"
        },
        "papermill": {
          "duration": 0.049534,
          "end_time": "2021-08-15T20:04:17.452705",
          "exception": false,
          "start_time": "2021-08-15T20:04:17.403171",
          "status": "completed"
        },
        "tags": [],
        "id": "5f731932",
        "colab": {
          "base_uri": "https://localhost:8080/"
        },
        "outputId": "7e976e25-0239-4652-bda6-06e251409154"
      },
      "source": [
        "X.shape"
      ],
      "id": "5f731932",
      "execution_count": null,
      "outputs": [
        {
          "output_type": "execute_result",
          "data": {
            "text/plain": [
              "(984, 30)"
            ]
          },
          "metadata": {},
          "execution_count": 119
        }
      ]
    },
    {
      "cell_type": "code",
      "metadata": {
        "execution": {
          "iopub.execute_input": "2021-08-15T20:04:17.539983Z",
          "iopub.status.busy": "2021-08-15T20:04:17.539012Z",
          "iopub.status.idle": "2021-08-15T20:04:17.544286Z",
          "shell.execute_reply": "2021-08-15T20:04:17.544733Z",
          "shell.execute_reply.started": "2021-08-15T20:03:17.316395Z"
        },
        "papermill": {
          "duration": 0.050119,
          "end_time": "2021-08-15T20:04:17.544904",
          "exception": false,
          "start_time": "2021-08-15T20:04:17.494785",
          "status": "completed"
        },
        "tags": [],
        "id": "1c54b24c",
        "colab": {
          "base_uri": "https://localhost:8080/"
        },
        "outputId": "3da167f4-d3b0-463c-c8a1-4647cc1f1697"
      },
      "source": [
        "Y.shape"
      ],
      "id": "1c54b24c",
      "execution_count": null,
      "outputs": [
        {
          "output_type": "execute_result",
          "data": {
            "text/plain": [
              "(984,)"
            ]
          },
          "metadata": {},
          "execution_count": 120
        }
      ]
    },
    {
      "cell_type": "code",
      "metadata": {
        "execution": {
          "iopub.execute_input": "2021-08-15T20:04:17.632472Z",
          "iopub.status.busy": "2021-08-15T20:04:17.631538Z",
          "iopub.status.idle": "2021-08-15T20:04:17.637596Z",
          "shell.execute_reply": "2021-08-15T20:04:17.638057Z",
          "shell.execute_reply.started": "2021-08-15T20:03:17.331476Z"
        },
        "papermill": {
          "duration": 0.051291,
          "end_time": "2021-08-15T20:04:17.638229",
          "exception": false,
          "start_time": "2021-08-15T20:04:17.586938",
          "status": "completed"
        },
        "tags": [],
        "id": "bec87d43"
      },
      "source": [
        "# Split the data into training and test data\n",
        "X_train, X_test, y_train, y_test = train_test_split(X, Y, test_size=0.33, random_state=42)\n"
      ],
      "id": "bec87d43",
      "execution_count": null,
      "outputs": []
    },
    {
      "cell_type": "code",
      "metadata": {
        "execution": {
          "iopub.execute_input": "2021-08-15T20:04:17.726076Z",
          "iopub.status.busy": "2021-08-15T20:04:17.725095Z",
          "iopub.status.idle": "2021-08-15T20:04:17.729121Z",
          "shell.execute_reply": "2021-08-15T20:04:17.729579Z",
          "shell.execute_reply.started": "2021-08-15T20:03:17.347610Z"
        },
        "papermill": {
          "duration": 0.049557,
          "end_time": "2021-08-15T20:04:17.729761",
          "exception": false,
          "start_time": "2021-08-15T20:04:17.680204",
          "status": "completed"
        },
        "tags": [],
        "id": "97353dc6"
      },
      "source": [
        "model_lr = LogisticRegression(max_iter=120,random_state=0, n_jobs=20, solver='liblinear')\n"
      ],
      "id": "97353dc6",
      "execution_count": null,
      "outputs": []
    },
    {
      "cell_type": "code",
      "metadata": {
        "execution": {
          "iopub.execute_input": "2021-08-15T20:04:17.818496Z",
          "iopub.status.busy": "2021-08-15T20:04:17.817451Z",
          "iopub.status.idle": "2021-08-15T20:04:17.964361Z",
          "shell.execute_reply": "2021-08-15T20:04:17.964845Z",
          "shell.execute_reply.started": "2021-08-15T20:03:17.356291Z"
        },
        "papermill": {
          "duration": 0.19269,
          "end_time": "2021-08-15T20:04:17.965045",
          "exception": false,
          "start_time": "2021-08-15T20:04:17.772355",
          "status": "completed"
        },
        "tags": [],
        "id": "4c608648",
        "colab": {
          "base_uri": "https://localhost:8080/"
        },
        "outputId": "cb4a51c2-a9a2-4a68-e62d-ba8b85157df6"
      },
      "source": [
        "model_lr.fit(X_train, y_train)"
      ],
      "id": "4c608648",
      "execution_count": null,
      "outputs": [
        {
          "output_type": "stream",
          "text": [
            "/usr/local/lib/python3.7/dist-packages/sklearn/linear_model/_logistic.py:1539: UserWarning: 'n_jobs' > 1 does not have any effect when 'solver' is set to 'liblinear'. Got 'n_jobs' = 20.\n",
            "  \" = {}.\".format(effective_n_jobs(self.n_jobs)))\n"
          ],
          "name": "stderr"
        },
        {
          "output_type": "execute_result",
          "data": {
            "text/plain": [
              "LogisticRegression(C=1.0, class_weight=None, dual=False, fit_intercept=True,\n",
              "                   intercept_scaling=1, l1_ratio=None, max_iter=120,\n",
              "                   multi_class='auto', n_jobs=20, penalty='l2', random_state=0,\n",
              "                   solver='liblinear', tol=0.0001, verbose=0, warm_start=False)"
            ]
          },
          "metadata": {},
          "execution_count": 123
        }
      ]
    },
    {
      "cell_type": "code",
      "metadata": {
        "execution": {
          "iopub.execute_input": "2021-08-15T20:04:18.059418Z",
          "iopub.status.busy": "2021-08-15T20:04:18.058282Z",
          "iopub.status.idle": "2021-08-15T20:04:18.071062Z",
          "shell.execute_reply": "2021-08-15T20:04:18.072688Z",
          "shell.execute_reply.started": "2021-08-15T20:03:17.387463Z"
        },
        "papermill": {
          "duration": 0.065146,
          "end_time": "2021-08-15T20:04:18.073216",
          "exception": false,
          "start_time": "2021-08-15T20:04:18.008070",
          "status": "completed"
        },
        "tags": [],
        "id": "d44f0d74",
        "colab": {
          "base_uri": "https://localhost:8080/"
        },
        "outputId": "09c46b87-240d-459c-b540-4794a83a952d"
      },
      "source": [
        "trn_lr_pred = model_lr.predict(X_train)\n",
        "trn_lr_acc = accuracy_score(trn_lr_pred, y_train)\n",
        "print(round(trn_lr_acc*100, 2))"
      ],
      "id": "d44f0d74",
      "execution_count": null,
      "outputs": [
        {
          "output_type": "stream",
          "text": [
            "93.02\n"
          ],
          "name": "stdout"
        }
      ]
    },
    {
      "cell_type": "code",
      "metadata": {
        "execution": {
          "iopub.execute_input": "2021-08-15T20:04:18.219317Z",
          "iopub.status.busy": "2021-08-15T20:04:18.218234Z",
          "iopub.status.idle": "2021-08-15T20:04:18.224277Z",
          "shell.execute_reply": "2021-08-15T20:04:18.225814Z",
          "shell.execute_reply.started": "2021-08-15T20:03:17.404121Z"
        },
        "papermill": {
          "duration": 0.069063,
          "end_time": "2021-08-15T20:04:18.226174",
          "exception": false,
          "start_time": "2021-08-15T20:04:18.157111",
          "status": "completed"
        },
        "tags": [],
        "id": "dbcf93fd",
        "colab": {
          "base_uri": "https://localhost:8080/"
        },
        "outputId": "44606695-4207-45c8-9c08-caa98fa41aed"
      },
      "source": [
        "tst_lr_pred = model_lr.predict(X_test)\n",
        "tst_lr_acc = accuracy_score(tst_lr_pred, y_test)\n",
        "print(round(tst_lr_acc*100, 2))"
      ],
      "id": "dbcf93fd",
      "execution_count": null,
      "outputs": [
        {
          "output_type": "stream",
          "text": [
            "93.54\n"
          ],
          "name": "stdout"
        }
      ]
    },
    {
      "cell_type": "code",
      "metadata": {
        "execution": {
          "iopub.execute_input": "2021-08-15T20:04:19.153091Z",
          "iopub.status.busy": "2021-08-15T20:04:19.152369Z",
          "iopub.status.idle": "2021-08-15T20:04:19.161117Z",
          "shell.execute_reply": "2021-08-15T20:04:19.160546Z",
          "shell.execute_reply.started": "2021-08-15T20:03:17.946950Z"
        },
        "papermill": {
          "duration": 0.061047,
          "end_time": "2021-08-15T20:04:19.161268",
          "exception": false,
          "start_time": "2021-08-15T20:04:19.100221",
          "status": "completed"
        },
        "tags": [],
        "id": "542aecc6",
        "colab": {
          "base_uri": "https://localhost:8080/"
        },
        "outputId": "e5052b4e-7e1c-4a18-bcc7-9a74725e244e"
      },
      "source": [
        "print(classification_report(y_test,tst_lr_pred))"
      ],
      "id": "542aecc6",
      "execution_count": null,
      "outputs": [
        {
          "output_type": "stream",
          "text": [
            "              precision    recall  f1-score   support\n",
            "\n",
            "           0       0.91      0.97      0.94       164\n",
            "           1       0.97      0.90      0.93       161\n",
            "\n",
            "    accuracy                           0.94       325\n",
            "   macro avg       0.94      0.94      0.94       325\n",
            "weighted avg       0.94      0.94      0.94       325\n",
            "\n"
          ],
          "name": "stdout"
        }
      ]
    },
    {
      "cell_type": "markdown",
      "metadata": {
        "papermill": {
          "duration": 0.051177,
          "end_time": "2021-08-15T20:04:38.636701",
          "exception": false,
          "start_time": "2021-08-15T20:04:38.585524",
          "status": "completed"
        },
        "tags": [],
        "id": "1f80ac2e"
      },
      "source": [
        "#####  Conclusion : Model have achieved an accuracy of approx 94% ."
      ],
      "id": "1f80ac2e"
    }
  ]
}